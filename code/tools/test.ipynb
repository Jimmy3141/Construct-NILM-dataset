{
 "cells": [
  {
   "cell_type": "code",
   "execution_count": 28,
   "metadata": {
    "collapsed": true
   },
   "outputs": [],
   "source": [
    "import os\n",
    "import random\n",
    "\n",
    "appliance_path = r\"../../data/timegan_data/computer monitor\"\n",
    "appliance_lst = os.listdir(appliance_path)"
   ]
  },
  {
   "cell_type": "code",
   "execution_count": 29,
   "outputs": [],
   "source": [
    "import random"
   ],
   "metadata": {
    "collapsed": false
   }
  },
  {
   "cell_type": "code",
   "execution_count": 17,
   "outputs": [
    {
     "data": {
      "text/plain": "'b1m14'"
     },
     "execution_count": 17,
     "metadata": {},
     "output_type": "execute_result"
    }
   ],
   "source": [
    "random.choice(appliance_lst)"
   ],
   "metadata": {
    "collapsed": false
   }
  },
  {
   "cell_type": "code",
   "execution_count": 12,
   "outputs": [
    {
     "ename": "NameError",
     "evalue": "name 'appliance_lst' is not defined",
     "output_type": "error",
     "traceback": [
      "\u001B[1;31m---------------------------------------------------------------------------\u001B[0m",
      "\u001B[1;31mNameError\u001B[0m                                 Traceback (most recent call last)",
      "Cell \u001B[1;32mIn[12], line 1\u001B[0m\n\u001B[1;32m----> 1\u001B[0m \u001B[43mappliance_lst\u001B[49m\n",
      "\u001B[1;31mNameError\u001B[0m: name 'appliance_lst' is not defined"
     ]
    }
   ],
   "source": [
    "appliance_lst"
   ],
   "metadata": {
    "collapsed": false
   }
  },
  {
   "cell_type": "code",
   "execution_count": 19,
   "outputs": [
    {
     "data": {
      "text/plain": "True"
     },
     "execution_count": 19,
     "metadata": {},
     "output_type": "execute_result"
    }
   ],
   "source": [
    "os.path.exists(r'../../data/timegan_data\\\\washing machine\\\\b1m5')"
   ],
   "metadata": {
    "collapsed": false
   }
  },
  {
   "cell_type": "code",
   "execution_count": 20,
   "outputs": [
    {
     "data": {
      "text/plain": "['1.npy',\n '10.npy',\n '11.npy',\n '12.npy',\n '13.npy',\n '14.npy',\n '15.npy',\n '16.npy',\n '17.npy',\n '19.npy',\n '2.npy',\n '20.npy',\n '21.npy',\n '22.npy',\n '23.npy',\n '24.npy',\n '25.npy',\n '26.npy',\n '27.npy',\n '28.npy',\n '29.npy',\n '3.npy',\n '30.npy',\n '31.npy',\n '32.npy',\n '33.npy',\n '34.npy',\n '35.npy',\n '36.npy',\n '37.npy',\n '38.npy',\n '39.npy',\n '4.npy',\n '40.npy',\n '5.npy',\n '6.npy',\n '7.npy',\n '8.npy',\n '9.npy']"
     },
     "execution_count": 20,
     "metadata": {},
     "output_type": "execute_result"
    }
   ],
   "source": [
    "os.listdir(r'../../data/timegan_data\\\\washing machine\\\\b1m5')"
   ],
   "metadata": {
    "collapsed": false
   }
  },
  {
   "cell_type": "code",
   "execution_count": 21,
   "outputs": [],
   "source": [
    "x = ['1.npy', '10.npy', '11.npy', '12.npy', '13.npy', '14.npy', '15.npy', '16.npy', '17.npy', '19.npy', '2.npy', '20.npy', '21.npy', '22.npy', '23.npy', '24.npy', '25.npy', '26.npy', '27.npy', '28.npy', '29.npy', '3.npy', '30.npy', '31.npy', '32.npy', '33.npy', '34.npy', '35.npy', '36.npy', '37.npy', '38.npy', '39.npy', '4.npy', '40.npy', '5.npy', '6.npy', '7.npy', '8.npy', '9.npy']\n"
   ],
   "metadata": {
    "collapsed": false
   }
  },
  {
   "cell_type": "code",
   "execution_count": 22,
   "outputs": [],
   "source": [
    "n = iter(x)"
   ],
   "metadata": {
    "collapsed": false
   }
  },
  {
   "cell_type": "code",
   "execution_count": 24,
   "outputs": [
    {
     "data": {
      "text/plain": "'10.npy'"
     },
     "execution_count": 24,
     "metadata": {},
     "output_type": "execute_result"
    }
   ],
   "source": [
    "next(n)"
   ],
   "metadata": {
    "collapsed": false
   }
  },
  {
   "cell_type": "code",
   "execution_count": 27,
   "outputs": [
    {
     "data": {
      "text/plain": "['1.npy',\n '10.npy',\n '11.npy',\n '12.npy',\n '13.npy',\n '14.npy',\n '15.npy',\n '16.npy',\n '17.npy',\n '19.npy',\n '2.npy',\n '20.npy',\n '21.npy',\n '22.npy',\n '23.npy',\n '24.npy',\n '25.npy',\n '26.npy',\n '27.npy',\n '28.npy',\n '29.npy',\n '3.npy',\n '30.npy',\n '31.npy',\n '32.npy',\n '33.npy',\n '34.npy',\n '35.npy',\n '36.npy',\n '37.npy',\n '38.npy',\n '39.npy',\n '4.npy',\n '40.npy',\n '5.npy',\n '6.npy',\n '7.npy',\n '8.npy',\n '9.npy']"
     },
     "execution_count": 27,
     "metadata": {},
     "output_type": "execute_result"
    }
   ],
   "source": [
    "os.listdir(r'../../data/timegan_data\\washing machine\\b1m5')"
   ],
   "metadata": {
    "collapsed": false
   }
  },
  {
   "cell_type": "code",
   "execution_count": null,
   "outputs": [],
   "source": [],
   "metadata": {
    "collapsed": false
   }
  }
 ],
 "metadata": {
  "kernelspec": {
   "display_name": "Python 3",
   "language": "python",
   "name": "python3"
  },
  "language_info": {
   "codemirror_mode": {
    "name": "ipython",
    "version": 2
   },
   "file_extension": ".py",
   "mimetype": "text/x-python",
   "name": "python",
   "nbconvert_exporter": "python",
   "pygments_lexer": "ipython2",
   "version": "2.7.6"
  }
 },
 "nbformat": 4,
 "nbformat_minor": 0
}
