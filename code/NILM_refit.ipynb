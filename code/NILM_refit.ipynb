{
 "cells": [
  {
   "cell_type": "code",
   "execution_count": 1,
   "outputs": [],
   "source": [
    "import pandas as pd\n",
    "from tools.core import GeneratedAppliance, Time, Building, Appliance_from_csv\n",
    "import pickle"
   ],
   "metadata": {
    "collapsed": false
   }
  },
  {
   "cell_type": "code",
   "execution_count": 2,
   "outputs": [],
   "source": [
    "from nilm_metadata import get_appliance_types"
   ],
   "metadata": {
    "collapsed": false
   }
  },
  {
   "cell_type": "code",
   "execution_count": 3,
   "outputs": [],
   "source": [
    "from tools.core import GeneratedRefitAppliance, Building_from_csv"
   ],
   "metadata": {
    "collapsed": false
   }
  },
  {
   "cell_type": "code",
   "execution_count": 4,
   "outputs": [],
   "source": [
    "sample_rate = 8\n",
    "dataset_time = Time(\"2014-04-01 00:00:00\",'2014-07-20 00:00:00')"
   ],
   "metadata": {
    "collapsed": false
   }
  },
  {
   "cell_type": "code",
   "execution_count": 5,
   "outputs": [
    {
     "data": {
      "text/plain": "                        Date  Aggregate  fridge freezer  fan  television  \\\n0        2014-04-01 00:00:00      140.0             1.0  0.0         0.0   \n1        2014-04-01 00:00:08      136.0             1.0  0.0         0.0   \n2        2014-04-01 00:00:16      138.0             1.0  0.0         0.0   \n3        2014-04-01 00:00:24      128.0             1.0  0.0         0.0   \n4        2014-04-01 00:00:32      139.0             1.0  0.0         0.0   \n...                      ...        ...             ...  ...         ...   \n1187996  2014-07-19 23:59:28      159.0            84.0  0.0         0.0   \n1187997  2014-07-19 23:59:36      159.0            84.0  0.0         0.0   \n1187998  2014-07-19 23:59:44      158.0            83.0  0.0         0.0   \n1187999  2014-07-19 23:59:52        0.0             0.0  0.0         0.0   \n1188000  2014-07-20 00:00:00      160.0            84.0  0.0         0.0   \n\n         washing machine  dishwasher  microwave  kettle  \n0                    0.0         0.0        0.0     0.0  \n1                    0.0         0.0        0.0     0.0  \n2                    0.0         0.0        0.0     0.0  \n3                    0.0         0.0        0.0     0.0  \n4                    0.0         0.0        0.0     0.0  \n...                  ...         ...        ...     ...  \n1187996              0.0         0.0        0.0     0.0  \n1187997              0.0         0.0        0.0     0.0  \n1187998              0.0         0.0        0.0     0.0  \n1187999              0.0         0.0        0.0     0.0  \n1188000              0.0         0.0        0.0     0.0  \n\n[1188001 rows x 9 columns]",
      "text/html": "<div>\n<style scoped>\n    .dataframe tbody tr th:only-of-type {\n        vertical-align: middle;\n    }\n\n    .dataframe tbody tr th {\n        vertical-align: top;\n    }\n\n    .dataframe thead th {\n        text-align: right;\n    }\n</style>\n<table border=\"1\" class=\"dataframe\">\n  <thead>\n    <tr style=\"text-align: right;\">\n      <th></th>\n      <th>Date</th>\n      <th>Aggregate</th>\n      <th>fridge freezer</th>\n      <th>fan</th>\n      <th>television</th>\n      <th>washing machine</th>\n      <th>dishwasher</th>\n      <th>microwave</th>\n      <th>kettle</th>\n    </tr>\n  </thead>\n  <tbody>\n    <tr>\n      <th>0</th>\n      <td>2014-04-01 00:00:00</td>\n      <td>140.0</td>\n      <td>1.0</td>\n      <td>0.0</td>\n      <td>0.0</td>\n      <td>0.0</td>\n      <td>0.0</td>\n      <td>0.0</td>\n      <td>0.0</td>\n    </tr>\n    <tr>\n      <th>1</th>\n      <td>2014-04-01 00:00:08</td>\n      <td>136.0</td>\n      <td>1.0</td>\n      <td>0.0</td>\n      <td>0.0</td>\n      <td>0.0</td>\n      <td>0.0</td>\n      <td>0.0</td>\n      <td>0.0</td>\n    </tr>\n    <tr>\n      <th>2</th>\n      <td>2014-04-01 00:00:16</td>\n      <td>138.0</td>\n      <td>1.0</td>\n      <td>0.0</td>\n      <td>0.0</td>\n      <td>0.0</td>\n      <td>0.0</td>\n      <td>0.0</td>\n      <td>0.0</td>\n    </tr>\n    <tr>\n      <th>3</th>\n      <td>2014-04-01 00:00:24</td>\n      <td>128.0</td>\n      <td>1.0</td>\n      <td>0.0</td>\n      <td>0.0</td>\n      <td>0.0</td>\n      <td>0.0</td>\n      <td>0.0</td>\n      <td>0.0</td>\n    </tr>\n    <tr>\n      <th>4</th>\n      <td>2014-04-01 00:00:32</td>\n      <td>139.0</td>\n      <td>1.0</td>\n      <td>0.0</td>\n      <td>0.0</td>\n      <td>0.0</td>\n      <td>0.0</td>\n      <td>0.0</td>\n      <td>0.0</td>\n    </tr>\n    <tr>\n      <th>...</th>\n      <td>...</td>\n      <td>...</td>\n      <td>...</td>\n      <td>...</td>\n      <td>...</td>\n      <td>...</td>\n      <td>...</td>\n      <td>...</td>\n      <td>...</td>\n    </tr>\n    <tr>\n      <th>1187996</th>\n      <td>2014-07-19 23:59:28</td>\n      <td>159.0</td>\n      <td>84.0</td>\n      <td>0.0</td>\n      <td>0.0</td>\n      <td>0.0</td>\n      <td>0.0</td>\n      <td>0.0</td>\n      <td>0.0</td>\n    </tr>\n    <tr>\n      <th>1187997</th>\n      <td>2014-07-19 23:59:36</td>\n      <td>159.0</td>\n      <td>84.0</td>\n      <td>0.0</td>\n      <td>0.0</td>\n      <td>0.0</td>\n      <td>0.0</td>\n      <td>0.0</td>\n      <td>0.0</td>\n    </tr>\n    <tr>\n      <th>1187998</th>\n      <td>2014-07-19 23:59:44</td>\n      <td>158.0</td>\n      <td>83.0</td>\n      <td>0.0</td>\n      <td>0.0</td>\n      <td>0.0</td>\n      <td>0.0</td>\n      <td>0.0</td>\n      <td>0.0</td>\n    </tr>\n    <tr>\n      <th>1187999</th>\n      <td>2014-07-19 23:59:52</td>\n      <td>0.0</td>\n      <td>0.0</td>\n      <td>0.0</td>\n      <td>0.0</td>\n      <td>0.0</td>\n      <td>0.0</td>\n      <td>0.0</td>\n      <td>0.0</td>\n    </tr>\n    <tr>\n      <th>1188000</th>\n      <td>2014-07-20 00:00:00</td>\n      <td>160.0</td>\n      <td>84.0</td>\n      <td>0.0</td>\n      <td>0.0</td>\n      <td>0.0</td>\n      <td>0.0</td>\n      <td>0.0</td>\n      <td>0.0</td>\n    </tr>\n  </tbody>\n</table>\n<p>1188001 rows × 9 columns</p>\n</div>"
     },
     "execution_count": 5,
     "metadata": {},
     "output_type": "execute_result"
    }
   ],
   "source": [
    "df = pd.read_csv(r\"C:\\annoticity-master (2)\\train.csv\")\n",
    "df"
   ],
   "metadata": {
    "collapsed": false
   }
  },
  {
   "cell_type": "code",
   "execution_count": 6,
   "outputs": [
    {
     "name": "stdout",
     "output_type": "stream",
     "text": [
      "**********\n",
      "fridge freezer\n",
      "**********\n",
      "**********\n",
      "fan\n",
      "**********\n",
      "**********\n",
      "television\n",
      "**********\n",
      "**********\n",
      "washing machine\n",
      "**********\n",
      "**********\n",
      "dishwasher\n",
      "**********\n",
      "**********\n",
      "microwave\n",
      "**********\n",
      "**********\n",
      "kettle\n",
      "**********\n"
     ]
    }
   ],
   "source": [
    "building = Building_from_csv(1,dataset_time,sample_rate,r\"C:\\annoticity-master (2)\\train.csv\")"
   ],
   "metadata": {
    "collapsed": false
   }
  },
  {
   "cell_type": "code",
   "execution_count": 7,
   "outputs": [],
   "source": [
    "with open(r\"C:\\Users\\ASUS\\Desktop\\pnilm\\data\\oversample_time\\fanaverage.pkl\",'rb') as f:\n",
    "    used_time = pickle.load(f)"
   ],
   "metadata": {
    "collapsed": false
   }
  },
  {
   "cell_type": "code",
   "execution_count": 5,
   "outputs": [
    {
     "ename": "NameError",
     "evalue": "name 'used_time' is not defined",
     "output_type": "error",
     "traceback": [
      "\u001B[1;31m---------------------------------------------------------------------------\u001B[0m",
      "\u001B[1;31mNameError\u001B[0m                                 Traceback (most recent call last)",
      "Cell \u001B[1;32mIn[5], line 1\u001B[0m\n\u001B[1;32m----> 1\u001B[0m \u001B[43mused_time\u001B[49m\n",
      "\u001B[1;31mNameError\u001B[0m: name 'used_time' is not defined"
     ]
    }
   ],
   "source": [
    "building.appliance_lst[1].df.plot()"
   ],
   "metadata": {
    "collapsed": false
   }
  },
  {
   "cell_type": "code",
   "execution_count": 9,
   "outputs": [],
   "source": [
    "building.oversample(used_time,'fan',1)"
   ],
   "metadata": {
    "collapsed": false
   }
  },
  {
   "cell_type": "code",
   "execution_count": 10,
   "outputs": [
    {
     "data": {
      "text/plain": "<AxesSubplot:xlabel='Date'>"
     },
     "execution_count": 10,
     "metadata": {},
     "output_type": "execute_result"
    },
    {
     "data": {
      "text/plain": "<Figure size 640x480 with 1 Axes>",
      "image/png": "[encoded data removed]"
     },
     "metadata": {},
     "output_type": "display_data"
    }
   ],
   "source": [
    "building.appliance_lst[1].df.plot()"
   ],
   "metadata": {
    "collapsed": false
   }
  },
  {
   "cell_type": "code",
   "execution_count": 11,
   "outputs": [],
   "source": [
    "building.to_dataset()"
   ],
   "metadata": {
    "collapsed": false
   }
  },
  {
   "cell_type": "code",
   "execution_count": 12,
   "outputs": [],
   "source": [
    "building.create_metadata()"
   ],
   "metadata": {
    "collapsed": false
   }
  },
  {
   "cell_type": "code",
   "execution_count": 13,
   "outputs": [
    {
     "name": "stdout",
     "output_type": "stream",
     "text": [
      "Loading house 1... 1 2 3 4 5 6 7 8 \n",
      "Loaded metadata\n",
      "['/building1/elec/meter1', '/building1/elec/meter2', '/building1/elec/meter3', '/building1/elec/meter4', '/building1/elec/meter5', '/building1/elec/meter6', '/building1/elec/meter7', '/building1/elec/meter8']\n",
      "{'appliance': {'parent': None, 'min_on_duration': 20, 'min_off_duration': 20, 'type': 'appliance', 'n_ancestors': 0, 'categories': {}}, 'cold appliance': {'parent': 'appliance', 'min_on_duration': 20, 'min_off_duration': 20, 'type': 'cold appliance', 'n_ancestors': 1, 'categories': {'traditional': 'cold', 'size': 'large'}, 'distributions': {'rooms': [{'distribution_of_data': {'categories': ['kitchen', 'utility', 'basement', 'garage'], 'values': [0.5, 0.1, 0.1, 0.1]}, 'source': 'subjective', 'from_appliance_type': 'cold appliance', 'distance': 0}]}}, 'fridge': {'parent': 'cold appliance', 'min_on_duration': 20, 'min_off_duration': 20, 'type': 'fridge', 'n_ancestors': 2, 'categories': {'traditional': 'cold', 'size': 'large', 'electrical': ['single-phase induction motor']}, 'distributions': {'rooms': [{'distribution_of_data': {'categories': ['kitchen', 'utility', 'basement', 'garage'], 'values': [0.5, 0.1, 0.1, 0.1]}, 'source': 'subjective', 'from_appliance_type': 'cold appliance', 'distance': 1}]}, 'components': [{'type': 'light', 'control': ['manual', 'timer'], 'do_not_merge_categories': True, 'parent': 'appliance', 'min_on_duration': 20, 'min_off_duration': 20, 'n_ancestors': 1, 'description': \"We distinguish between the 'luminaire' (light fitting) and the\\nelectric lamp(s) within the light fitting.\\n\\nSee:\\n  - https://en.wikipedia.org/wiki/Luminaire \\n  - https://en.wikipedia.org/wiki/Lamp_%28electrical_component%29\\n\\nThe light appliance takes its category from the lamp type fitted.\\n\", 'categories': {'electrical': ['lighting']}, 'synonyms': ['luminaire', 'light fitting'], 'usual_components': ['dimmer', 'lamp'], 'additional_properties': {'main_room_light': {'type': 'boolean'}}, 'subtypes': ['ceiling pendant', 'ceiling downlight', 'desk', 'wall', 'table', 'floor standing', 'floor level', 'decorative', 'night light', 'signage', 'outdoor', 'mood']}, {'type': 'compressor', 'control': ['thermostat'], 'parent': 'motor', 'n_ancestors': 2, 'categories': {'electrical': ['single-phase induction motor']}}], 'subtypes': ['chest', 'upright'], 'additional_properties': {'fridge_volume': {'type': 'number', 'description': 'litres'}}, 'synonyms': ['fridge freezer', 'freezer']}, 'freezer': {'parent': 'fridge', 'min_on_duration': 20, 'min_off_duration': 20, 'type': 'freezer', 'n_ancestors': 3, 'categories': {'traditional': 'cold', 'size': 'large', 'electrical': ['single-phase induction motor']}, 'distributions': {'rooms': [{'distribution_of_data': {'categories': ['kitchen', 'utility', 'basement', 'garage'], 'values': [0.5, 0.1, 0.1, 0.1]}, 'source': 'subjective', 'from_appliance_type': 'cold appliance', 'distance': 2}]}, 'components': [{'type': 'light', 'control': ['manual', 'timer'], 'do_not_merge_categories': True, 'parent': 'appliance', 'min_on_duration': 20, 'min_off_duration': 20, 'n_ancestors': 1, 'description': \"We distinguish between the 'luminaire' (light fitting) and the\\nelectric lamp(s) within the light fitting.\\n\\nSee:\\n  - https://en.wikipedia.org/wiki/Luminaire \\n  - https://en.wikipedia.org/wiki/Lamp_%28electrical_component%29\\n\\nThe light appliance takes its category from the lamp type fitted.\\n\", 'categories': {'electrical': ['lighting']}, 'synonyms': ['luminaire', 'light fitting'], 'usual_components': ['dimmer', 'lamp'], 'additional_properties': {'main_room_light': {'type': 'boolean'}}, 'subtypes': ['ceiling pendant', 'ceiling downlight', 'desk', 'wall', 'table', 'floor standing', 'floor level', 'decorative', 'night light', 'signage', 'outdoor', 'mood']}, {'type': 'compressor', 'control': ['thermostat'], 'parent': 'motor', 'n_ancestors': 2, 'categories': {'electrical': ['single-phase induction motor']}}], 'subtypes': ['chest', 'upright'], 'do_not_inherit': ['additional_properties', 'synonyms', 'description', 'do_not_inherit'], 'additional_properties': {'freezer_volume': {'type': 'number', 'description': 'litres'}}, 'synonyms': ['fridge', 'fridge freezer']}, 'fridge freezer': {'parent': 'fridge', 'min_on_duration': 20, 'min_off_duration': 20, 'type': 'fridge freezer', 'n_ancestors': 3, 'categories': {'traditional': 'cold', 'size': 'large', 'electrical': ['single-phase induction motor']}, 'distributions': {'rooms': [{'distribution_of_data': {'categories': ['kitchen', 'utility', 'basement', 'garage'], 'values': [0.5, 0.1, 0.1, 0.1]}, 'source': 'subjective', 'from_appliance_type': 'cold appliance', 'distance': 2}]}, 'components': [{'type': 'light', 'control': ['manual', 'timer'], 'do_not_merge_categories': True, 'parent': 'appliance', 'min_on_duration': 20, 'min_off_duration': 20, 'n_ancestors': 1, 'description': \"We distinguish between the 'luminaire' (light fitting) and the\\nelectric lamp(s) within the light fitting.\\n\\nSee:\\n  - https://en.wikipedia.org/wiki/Luminaire \\n  - https://en.wikipedia.org/wiki/Lamp_%28electrical_component%29\\n\\nThe light appliance takes its category from the lamp type fitted.\\n\", 'categories': {'electrical': ['lighting']}, 'synonyms': ['luminaire', 'light fitting'], 'usual_components': ['dimmer', 'lamp'], 'additional_properties': {'main_room_light': {'type': 'boolean'}}, 'subtypes': ['ceiling pendant', 'ceiling downlight', 'desk', 'wall', 'table', 'floor standing', 'floor level', 'decorative', 'night light', 'signage', 'outdoor', 'mood']}, {'type': 'compressor', 'control': ['thermostat'], 'parent': 'motor', 'n_ancestors': 2, 'categories': {'electrical': ['single-phase induction motor']}}], 'subtypes': ['upright', 'side-by-side', 'fridge on top', 'fridge on bottom', 'chest'], 'additional_properties': {'fridge_volume': {'type': 'number', 'description': 'litres'}, 'freezer_volume': {'type': 'number', 'description': 'litres'}}, 'synonyms': ['fridge', 'freezer']}, 'air conditioner': {'parent': 'appliance', 'min_on_duration': 20, 'min_off_duration': 20, 'type': 'air conditioner', 'n_ancestors': 1, 'synonyms': ['air conditioning', 'AC'], 'control': ['manual', 'timer', 'thermostat'], 'categories': {'google_shopping': ['climate control'], 'electrical': ['single-phase induction motor']}, 'additional_properties': {'heat_dump': {'enum': ['ground', 'air', 'water']}}, 'components': [{'type': 'compressor', 'parent': 'motor', 'n_ancestors': 2, 'categories': {'electrical': ['single-phase induction motor']}}]}, 'air handling unit': {'parent': 'fan', 'type': 'air handling unit', 'n_ancestors': 3, 'categories': {'electrical': ['single-phase induction motor'], 'traditional': 'consumer electronics', 'size': 'small', 'google_shopping': ['electronics']}, 'subtypes': ['desk', 'ceiling', 'extractor', 'single-room MVHR']}, 'Commercial appliance': {'parent': 'appliance', 'min_on_duration': 20, 'min_off_duration': 20, 'type': 'Commercial appliance', 'n_ancestors': 1, 'categories': {}}, 'AHU': {'parent': 'Commercial appliance', 'min_on_duration': 20, 'min_off_duration': 20, 'type': 'AHU', 'n_ancestors': 2, 'categories': {}}, 'elevator': {'parent': 'Commercial appliance', 'min_on_duration': 20, 'min_off_duration': 20, 'type': 'elevator', 'n_ancestors': 2, 'categories': {}}, 'component': {'parent': None, 'type': 'component', 'n_ancestors': 0, 'categories': {}}, 'motor': {'parent': 'component', 'type': 'motor', 'n_ancestors': 1, 'categories': {'electrical': ['single-phase induction motor']}}, 'water pump': {'parent': 'motor', 'type': 'water pump', 'n_ancestors': 2, 'categories': {'electrical': ['single-phase induction motor']}}, 'compressor': {'parent': 'motor', 'type': 'compressor', 'n_ancestors': 2, 'categories': {'electrical': ['single-phase induction motor']}}, 'electric heating element': {'parent': 'component', 'type': 'electric heating element', 'n_ancestors': 1, 'categories': {'electrical': ['resistive']}}, 'electric air heater': {'parent': 'electric heating element', 'type': 'electric air heater', 'n_ancestors': 2, 'categories': {'electrical': ['resistive']}}, 'electric water heater': {'parent': 'electric heating element', 'type': 'electric water heater', 'n_ancestors': 2, 'categories': {'electrical': ['resistive']}, 'additional_properties': {'volume': {'type': 'number', 'description': 'litres'}}}, 'screen': {'parent': 'component', 'type': 'screen', 'n_ancestors': 1, 'description': \"if the display technology is known then please specify 'flat screen' or 'CRT screen'\\n\", 'additional_properties': {'diagonal_size': {'type': 'number', 'description': 'diagonal size in inches', 'minimum': 0, 'exclusiveMinimum': True}, 'max_resolution': {'type': 'object', 'properties': {'horizontal': {'type': 'integer'}, 'vertical': {'type': 'integer'}}}, 'display_format': {'type': 'string', 'description': 'e.g. <1080p,PAL,NTSC,1080i> etc.'}, 'max_refresh_rate': {'type': 'number', 'description': 'Hz'}}, 'categories': {}}, 'CRT screen': {'parent': 'screen', 'type': 'CRT screen', 'n_ancestors': 2, 'additional_properties': {'diagonal_size': {'type': 'number', 'description': 'diagonal size in inches', 'minimum': 0, 'exclusiveMinimum': True}, 'max_resolution': {'type': 'object', 'properties': {'horizontal': {'type': 'integer'}, 'vertical': {'type': 'integer'}}}, 'display_format': {'type': 'string', 'description': 'e.g. <1080p,PAL,NTSC,1080i> etc.'}, 'max_refresh_rate': {'type': 'number', 'description': 'Hz'}}, 'categories': {}}, 'flat screen': {'parent': 'screen', 'type': 'flat screen', 'n_ancestors': 2, 'additional_properties': {'diagonal_size': {'type': 'number', 'description': 'diagonal size in inches', 'minimum': 0, 'exclusiveMinimum': True}, 'max_resolution': {'type': 'object', 'properties': {'horizontal': {'type': 'integer'}, 'vertical': {'type': 'integer'}}}, 'display_format': {'type': 'string', 'description': 'e.g. <1080p,PAL,NTSC,1080i> etc.'}, 'max_refresh_rate': {'type': 'number', 'description': 'Hz'}, 'display_technology': {'enum': ['CRT', 'LCD', 'plasma', 'OLED', 'projector']}, 'backlight_technology': {'enum': ['LED', 'cold cathode']}}, 'categories': {}}, 'CE appliance': {'parent': 'appliance', 'min_on_duration': 20, 'min_off_duration': 20, 'type': 'CE appliance', 'n_ancestors': 1, 'categories': {'traditional': 'consumer electronics', 'size': 'small', 'google_shopping': ['electronics']}, 'distributions': {'rooms': [{'distribution_of_data': {'categories': ['lounge', 'bedroom', 'kitchen'], 'values': [0.6, 0.2, 0, 1]}, 'source': 'subjective', 'from_appliance_type': 'CE appliance', 'distance': 0}]}}, 'television': {'parent': 'CE appliance', 'min_on_duration': 20, 'min_off_duration': 20, 'type': 'television', 'n_ancestors': 2, 'categories': {'traditional': 'consumer electronics', 'size': 'small', 'google_shopping': ['electronics']}, 'distributions': {'rooms': [{'distribution_of_data': {'categories': ['lounge', 'bedroom', 'kitchen'], 'values': [0.6, 0.2, 0, 1]}, 'source': 'subjective', 'from_appliance_type': 'CE appliance', 'distance': 1}]}, 'control': ['manual'], 'usual_components': ['flat screen', 'CRT screen'], 'subtypes': ['smart'], 'additional_properties': {'integrated_av_sources': {'type': 'array', 'description': 'select all that are relevant', 'items': {'enum': ['digital TV tuner', 'analogue TV tuner', 'videodisc', 'CD', 'DVR', 'DVD', 'blu-ray', 'tape', 'analogue radio', 'digital radio', 'satellite', 'cable', 'broadband', 'fibre']}}}}, 'projector': {'parent': 'television', 'min_on_duration': 20, 'min_off_duration': 20, 'type': 'projector', 'n_ancestors': 3, 'categories': {'traditional': 'consumer electronics', 'size': 'small', 'google_shopping': ['electronics']}, 'distributions': {'rooms': [{'distribution_of_data': {'categories': ['lounge', 'bedroom', 'kitchen'], 'values': [0.6, 0.2, 0, 1]}, 'source': 'subjective', 'from_appliance_type': 'CE appliance', 'distance': 2}]}, 'control': ['manual'], 'additional_properties': {'integrated_av_sources': {'type': 'array', 'description': 'select all that are relevant', 'items': {'enum': ['digital TV tuner', 'analogue TV tuner', 'videodisc', 'CD', 'DVR', 'DVD', 'blu-ray', 'tape', 'analogue radio', 'digital radio', 'satellite', 'cable', 'broadband', 'fibre']}}}, 'do_not_inherit': ['usual_components', 'subtypes', 'synonyms', 'description', 'do_not_inherit']}, 'games console': {'parent': 'computer', 'min_on_duration': 20, 'min_off_duration': 20, 'type': 'games console', 'n_ancestors': 3, 'categories': {'traditional': 'consumer electronics', 'size': 'small', 'electrical': ['SMPS'], 'google_shopping': ['electronics', 'computers']}, 'additional_properties': {'cpu': {'type': 'string'}}, 'control': ['manual', 'timer']}, 'set top box': {'parent': 'CE appliance', 'min_on_duration': 20, 'min_off_duration': 20, 'type': 'set top box', 'n_ancestors': 2, 'categories': {'traditional': 'consumer electronics', 'size': 'small', 'google_shopping': ['electronics']}, 'distributions': {'rooms': [{'distribution_of_data': {'categories': ['lounge', 'bedroom', 'kitchen'], 'values': [0.6, 0.2, 0, 1]}, 'source': 'subjective', 'from_appliance_type': 'CE appliance', 'distance': 1}]}}, 'AV recorder': {'parent': 'CE appliance', 'min_on_duration': 20, 'min_off_duration': 20, 'type': 'AV recorder', 'n_ancestors': 2, 'categories': {'traditional': 'consumer electronics', 'size': 'small', 'google_shopping': ['electronics']}, 'distributions': {'rooms': [{'distribution_of_data': {'categories': ['lounge', 'bedroom', 'kitchen'], 'values': [0.6, 0.2, 0, 1]}, 'source': 'subjective', 'from_appliance_type': 'CE appliance', 'distance': 1}]}, 'subtypes': ['digital video recorder', 'DVD recorder', 'blu-ray recorder']}, 'audio system': {'parent': 'CE appliance', 'min_on_duration': 20, 'min_off_duration': 20, 'type': 'audio system', 'n_ancestors': 2, 'categories': {'traditional': 'consumer electronics', 'size': 'small', 'google_shopping': ['electronics']}, 'distributions': {'rooms': [{'distribution_of_data': {'categories': ['lounge', 'bedroom', 'kitchen'], 'values': [0.6, 0.2, 0, 1]}, 'source': 'subjective', 'from_appliance_type': 'CE appliance', 'distance': 1}]}, 'usual_components': ['audio amplifier', 'CD player', 'radio']}, 'audio amplifier': {'parent': 'CE appliance', 'min_on_duration': 20, 'min_off_duration': 20, 'type': 'audio amplifier', 'n_ancestors': 2, 'categories': {'traditional': 'consumer electronics', 'size': 'small', 'google_shopping': ['electronics']}, 'distributions': {'rooms': [{'distribution_of_data': {'categories': ['lounge', 'bedroom', 'kitchen'], 'values': [0.6, 0.2, 0, 1]}, 'source': 'subjective', 'from_appliance_type': 'CE appliance', 'distance': 1}]}, 'usual_components': ['DAC', 'radio'], 'subtypes': ['home theatre']}, 'active speaker': {'parent': 'audio amplifier', 'min_on_duration': 20, 'min_off_duration': 20, 'type': 'active speaker', 'n_ancestors': 3, 'categories': {'traditional': 'consumer electronics', 'size': 'small', 'google_shopping': ['electronics']}, 'distributions': {'rooms': [{'distribution_of_data': {'categories': ['lounge', 'bedroom', 'kitchen'], 'values': [0.6, 0.2, 0, 1]}, 'source': 'subjective', 'from_appliance_type': 'CE appliance', 'distance': 2}]}, 'usual_components': ['DAC', 'radio'], 'subtypes': ['home theatre']}, 'active subwoofer': {'parent': 'active speaker', 'min_on_duration': 20, 'min_off_duration': 20, 'type': 'active subwoofer', 'n_ancestors': 4, 'categories': {'traditional': 'consumer electronics', 'size': 'small', 'google_shopping': ['electronics']}, 'distributions': {'rooms': [{'distribution_of_data': {'categories': ['lounge', 'bedroom', 'kitchen'], 'values': [0.6, 0.2, 0, 1]}, 'source': 'subjective', 'from_appliance_type': 'CE appliance', 'distance': 3}]}, 'usual_components': ['DAC', 'radio'], 'subtypes': ['home theatre']}, 'DAC': {'parent': 'CE appliance', 'min_on_duration': 20, 'min_off_duration': 20, 'type': 'DAC', 'n_ancestors': 2, 'categories': {'traditional': 'consumer electronics', 'size': 'small', 'google_shopping': ['electronics']}, 'distributions': {'rooms': [{'distribution_of_data': {'categories': ['lounge', 'bedroom', 'kitchen'], 'values': [0.6, 0.2, 0, 1]}, 'source': 'subjective', 'from_appliance_type': 'CE appliance', 'distance': 1}]}, 'synonyms': ['Digital to Analogue Converter']}, 'DVD player': {'parent': 'CE appliance', 'min_on_duration': 20, 'min_off_duration': 20, 'type': 'DVD player', 'n_ancestors': 2, 'categories': {'traditional': 'consumer electronics', 'size': 'small', 'google_shopping': ['electronics']}, 'distributions': {'rooms': [{'distribution_of_data': {'categories': ['lounge', 'bedroom', 'kitchen'], 'values': [0.6, 0.2, 0, 1]}, 'source': 'subjective', 'from_appliance_type': 'CE appliance', 'distance': 1}]}}, 'CD player': {'parent': 'CE appliance', 'min_on_duration': 20, 'min_off_duration': 20, 'type': 'CD player', 'n_ancestors': 2, 'categories': {'traditional': 'consumer electronics', 'size': 'small', 'google_shopping': ['electronics']}, 'distributions': {'rooms': [{'distribution_of_data': {'categories': ['lounge', 'bedroom', 'kitchen'], 'values': [0.6, 0.2, 0, 1]}, 'source': 'subjective', 'from_appliance_type': 'CE appliance', 'distance': 1}]}}, 'record deck': {'parent': 'CE appliance', 'min_on_duration': 20, 'min_off_duration': 20, 'type': 'record deck', 'n_ancestors': 2, 'categories': {'traditional': 'consumer electronics', 'size': 'small', 'google_shopping': ['electronics']}, 'distributions': {'rooms': [{'distribution_of_data': {'categories': ['lounge', 'bedroom', 'kitchen'], 'values': [0.6, 0.2, 0, 1]}, 'source': 'subjective', 'from_appliance_type': 'CE appliance', 'distance': 1}]}}, 'cassette deck': {'parent': 'CE appliance', 'min_on_duration': 20, 'min_off_duration': 20, 'type': 'cassette deck', 'n_ancestors': 2, 'categories': {'traditional': 'consumer electronics', 'size': 'small', 'google_shopping': ['electronics']}, 'distributions': {'rooms': [{'distribution_of_data': {'categories': ['lounge', 'bedroom', 'kitchen'], 'values': [0.6, 0.2, 0, 1]}, 'source': 'subjective', 'from_appliance_type': 'CE appliance', 'distance': 1}]}}, 'blu-ray player': {'parent': 'CE appliance', 'min_on_duration': 20, 'min_off_duration': 20, 'type': 'blu-ray player', 'n_ancestors': 2, 'categories': {'traditional': 'consumer electronics', 'size': 'small', 'google_shopping': ['electronics']}, 'distributions': {'rooms': [{'distribution_of_data': {'categories': ['lounge', 'bedroom', 'kitchen'], 'values': [0.6, 0.2, 0, 1]}, 'source': 'subjective', 'from_appliance_type': 'CE appliance', 'distance': 1}]}}, 'radio': {'parent': 'CE appliance', 'min_on_duration': 20, 'min_off_duration': 20, 'type': 'radio', 'n_ancestors': 2, 'categories': {'traditional': 'consumer electronics', 'size': 'small', 'google_shopping': ['electronics']}, 'distributions': {'rooms': [{'distribution_of_data': {'categories': ['lounge', 'bedroom', 'kitchen'], 'values': [0.6, 0.2, 0, 1]}, 'source': 'subjective', 'from_appliance_type': 'CE appliance', 'distance': 1}]}, 'subtypes': ['analogue', 'DAB']}, 'RF booster': {'parent': 'CE appliance', 'min_on_duration': 20, 'min_off_duration': 20, 'type': 'RF booster', 'n_ancestors': 2, 'categories': {'traditional': 'consumer electronics', 'size': 'small', 'google_shopping': ['electronics']}, 'distributions': {'rooms': [{'distribution_of_data': {'categories': ['lounge', 'bedroom', 'kitchen'], 'values': [0.6, 0.2, 0, 1]}, 'source': 'subjective', 'from_appliance_type': 'CE appliance', 'distance': 1}]}}, 'video sender': {'parent': 'CE appliance', 'min_on_duration': 20, 'min_off_duration': 20, 'type': 'video sender', 'n_ancestors': 2, 'categories': {'traditional': 'consumer electronics', 'size': 'small', 'google_shopping': ['electronics']}, 'distributions': {'rooms': [{'distribution_of_data': {'categories': ['lounge', 'bedroom', 'kitchen'], 'values': [0.6, 0.2, 0, 1]}, 'source': 'subjective', 'from_appliance_type': 'CE appliance', 'distance': 1}]}}, 'digital picture frame': {'parent': 'CE appliance', 'min_on_duration': 20, 'min_off_duration': 20, 'type': 'digital picture frame', 'n_ancestors': 2, 'categories': {'traditional': 'consumer electronics', 'size': 'small', 'google_shopping': ['electronics']}, 'distributions': {'rooms': [{'distribution_of_data': {'categories': ['lounge', 'bedroom', 'kitchen'], 'values': [0.6, 0.2, 0, 1]}, 'source': 'subjective', 'from_appliance_type': 'CE appliance', 'distance': 1}]}}, 'musical instrument': {'parent': 'CE appliance', 'min_on_duration': 20, 'min_off_duration': 20, 'type': 'musical instrument', 'n_ancestors': 2, 'categories': {'traditional': 'consumer electronics', 'size': 'small', 'google_shopping': ['electronics']}, 'distributions': {'rooms': [{'distribution_of_data': {'categories': ['lounge', 'bedroom', 'kitchen'], 'values': [0.6, 0.2, 0, 1]}, 'source': 'subjective', 'from_appliance_type': 'CE appliance', 'distance': 1}]}}, 'baby monitor': {'parent': 'CE appliance', 'min_on_duration': 20, 'min_off_duration': 20, 'type': 'baby monitor', 'n_ancestors': 2, 'categories': {'traditional': 'consumer electronics', 'size': 'small', 'google_shopping': ['electronics']}, 'distributions': {'rooms': [{'distribution_of_data': {'categories': ['lounge', 'bedroom', 'kitchen'], 'values': [0.6, 0.2, 0, 1]}, 'source': 'subjective', 'from_appliance_type': 'CE appliance', 'distance': 1}]}, 'subtypes': ['baby unit', 'parent unit']}, 'door bell': {'parent': 'CE appliance', 'min_on_duration': 20, 'min_off_duration': 20, 'type': 'door bell', 'n_ancestors': 2, 'categories': {'traditional': 'consumer electronics', 'size': 'small', 'google_shopping': ['electronics']}, 'distributions': {'rooms': [{'distribution_of_data': {'categories': ['lounge', 'bedroom', 'kitchen'], 'values': [0.6, 0.2, 0, 1]}, 'source': 'subjective', 'from_appliance_type': 'CE appliance', 'distance': 1}]}}, 'security alarm': {'parent': 'CE appliance', 'min_on_duration': 20, 'min_off_duration': 20, 'type': 'security alarm', 'n_ancestors': 2, 'categories': {'traditional': 'consumer electronics', 'size': 'small', 'google_shopping': ['electronics']}, 'distributions': {'rooms': [{'distribution_of_data': {'categories': ['lounge', 'bedroom', 'kitchen'], 'values': [0.6, 0.2, 0, 1]}, 'source': 'subjective', 'from_appliance_type': 'CE appliance', 'distance': 1}]}}, 'smoke alarm': {'parent': 'CE appliance', 'min_on_duration': 20, 'min_off_duration': 20, 'type': 'smoke alarm', 'n_ancestors': 2, 'categories': {'traditional': 'consumer electronics', 'size': 'small', 'google_shopping': ['electronics']}, 'distributions': {'rooms': [{'distribution_of_data': {'categories': ['lounge', 'bedroom', 'kitchen'], 'values': [0.6, 0.2, 0, 1]}, 'source': 'subjective', 'from_appliance_type': 'CE appliance', 'distance': 1}]}}, 'fan': {'parent': 'motor', 'type': 'fan', 'n_ancestors': 2, 'categories': {'electrical': ['single-phase induction motor'], 'traditional': 'consumer electronics', 'size': 'small', 'google_shopping': ['electronics']}, 'subtypes': ['desk', 'ceiling', 'extractor', 'single-room MVHR']}, 'small cooking appliance': {'parent': 'appliance', 'min_on_duration': 20, 'min_off_duration': 20, 'type': 'small cooking appliance', 'n_ancestors': 1, 'categories': {'traditional': 'cooking', 'size': 'small', 'google_shopping': ['kitchen and dining', 'kitchen appliances']}, 'control': ['manual'], 'distributions': {'rooms': [{'distribution_of_data': {'categories': ['kitchen', 'utility'], 'values': [0.7, 0.1]}, 'source': 'subjective', 'from_appliance_type': 'small cooking appliance', 'distance': 0}]}}, 'small resistive cooking appliance': {'parent': 'small cooking appliance', 'min_on_duration': 20, 'min_off_duration': 20, 'type': 'small resistive cooking appliance', 'n_ancestors': 2, 'categories': {'traditional': 'cooking', 'size': 'small', 'google_shopping': ['kitchen and dining', 'kitchen appliances'], 'electrical': ['resistive']}, 'control': ['manual'], 'distributions': {'rooms': [{'distribution_of_data': {'categories': ['kitchen', 'utility'], 'values': [0.7, 0.1]}, 'source': 'subjective', 'from_appliance_type': 'small cooking appliance', 'distance': 1}]}}, 'kettle': {'parent': 'small resistive cooking appliance', 'min_on_duration': 20, 'min_off_duration': 20, 'type': 'kettle', 'n_ancestors': 3, 'categories': {'traditional': 'cooking', 'size': 'small', 'google_shopping': ['kitchen and dining', 'kitchen appliances'], 'electrical': ['resistive']}, 'control': ['manual'], 'distributions': {'rooms': [{'distribution_of_data': {'categories': ['kitchen', 'utility'], 'values': [0.7, 0.1]}, 'source': 'subjective', 'from_appliance_type': 'small cooking appliance', 'distance': 2}]}}, 'toaster': {'parent': 'small resistive cooking appliance', 'min_on_duration': 20, 'min_off_duration': 20, 'type': 'toaster', 'n_ancestors': 3, 'categories': {'traditional': 'cooking', 'size': 'small', 'google_shopping': ['kitchen and dining', 'kitchen appliances'], 'electrical': ['resistive']}, 'control': ['manual'], 'distributions': {'rooms': [{'distribution_of_data': {'categories': ['kitchen', 'utility'], 'values': [0.7, 0.1]}, 'source': 'subjective', 'from_appliance_type': 'small cooking appliance', 'distance': 2}]}}, 'toasted sandwich maker': {'parent': 'small resistive cooking appliance', 'min_on_duration': 20, 'min_off_duration': 20, 'type': 'toasted sandwich maker', 'n_ancestors': 3, 'categories': {'traditional': 'cooking', 'size': 'small', 'google_shopping': ['kitchen and dining', 'kitchen appliances'], 'electrical': ['resistive']}, 'control': ['manual'], 'distributions': {'rooms': [{'distribution_of_data': {'categories': ['kitchen', 'utility'], 'values': [0.7, 0.1]}, 'source': 'subjective', 'from_appliance_type': 'small cooking appliance', 'distance': 2}]}}, 'fryer': {'parent': 'small resistive cooking appliance', 'min_on_duration': 20, 'min_off_duration': 20, 'type': 'fryer', 'n_ancestors': 3, 'categories': {'traditional': 'cooking', 'size': 'small', 'google_shopping': ['kitchen and dining', 'kitchen appliances'], 'electrical': ['resistive']}, 'control': ['manual'], 'distributions': {'rooms': [{'distribution_of_data': {'categories': ['kitchen', 'utility'], 'values': [0.7, 0.1]}, 'source': 'subjective', 'from_appliance_type': 'small cooking appliance', 'distance': 2}]}}, 'coffee maker': {'parent': 'small resistive cooking appliance', 'min_on_duration': 60, 'min_off_duration': 600, 'type': 'coffee maker', 'n_ancestors': 3, 'categories': {'traditional': 'cooking', 'size': 'small', 'google_shopping': ['kitchen and dining', 'kitchen appliances'], 'electrical': ['resistive']}, 'control': ['manual'], 'distributions': {'rooms': [{'distribution_of_data': {'categories': ['kitchen', 'utility'], 'values': [0.7, 0.1]}, 'source': 'subjective', 'from_appliance_type': 'small cooking appliance', 'distance': 2}]}}, 'rice cooker': {'parent': 'small resistive cooking appliance', 'min_on_duration': 20, 'min_off_duration': 20, 'type': 'rice cooker', 'n_ancestors': 3, 'categories': {'traditional': 'cooking', 'size': 'small', 'google_shopping': ['kitchen and dining', 'kitchen appliances'], 'electrical': ['resistive']}, 'control': ['manual'], 'distributions': {'rooms': [{'distribution_of_data': {'categories': ['kitchen', 'utility'], 'values': [0.7, 0.1]}, 'source': 'subjective', 'from_appliance_type': 'small cooking appliance', 'distance': 2}]}}, 'food steamer': {'parent': 'small resistive cooking appliance', 'min_on_duration': 20, 'min_off_duration': 20, 'type': 'food steamer', 'n_ancestors': 3, 'categories': {'traditional': 'cooking', 'size': 'small', 'google_shopping': ['kitchen and dining', 'kitchen appliances'], 'electrical': ['resistive']}, 'control': ['manual'], 'distributions': {'rooms': [{'distribution_of_data': {'categories': ['kitchen', 'utility'], 'values': [0.7, 0.1]}, 'source': 'subjective', 'from_appliance_type': 'small cooking appliance', 'distance': 2}]}}, 'bottle warmer': {'parent': 'small resistive cooking appliance', 'min_on_duration': 20, 'min_off_duration': 20, 'type': 'bottle warmer', 'n_ancestors': 3, 'categories': {'traditional': 'cooking', 'size': 'small', 'google_shopping': ['kitchen and dining', 'kitchen appliances'], 'electrical': ['resistive']}, 'control': ['manual'], 'distributions': {'rooms': [{'distribution_of_data': {'categories': ['kitchen', 'utility'], 'values': [0.7, 0.1]}, 'source': 'subjective', 'from_appliance_type': 'small cooking appliance', 'distance': 2}]}}, 'steriliser': {'parent': 'small resistive cooking appliance', 'min_on_duration': 20, 'min_off_duration': 20, 'type': 'steriliser', 'n_ancestors': 3, 'categories': {'traditional': 'cooking', 'size': 'small', 'google_shopping': ['kitchen and dining', 'kitchen appliances'], 'electrical': ['resistive']}, 'control': ['manual'], 'distributions': {'rooms': [{'distribution_of_data': {'categories': ['kitchen', 'utility'], 'values': [0.7, 0.1]}, 'source': 'subjective', 'from_appliance_type': 'small cooking appliance', 'distance': 2}]}}, 'plate warmer': {'parent': 'small resistive cooking appliance', 'min_on_duration': 20, 'min_off_duration': 20, 'type': 'plate warmer', 'n_ancestors': 3, 'categories': {'traditional': 'cooking', 'size': 'small', 'google_shopping': ['kitchen and dining', 'kitchen appliances'], 'electrical': ['resistive']}, 'control': ['manual'], 'distributions': {'rooms': [{'distribution_of_data': {'categories': ['kitchen', 'utility'], 'values': [0.7, 0.1]}, 'source': 'subjective', 'from_appliance_type': 'small cooking appliance', 'distance': 2}]}}, 'slow cooker': {'parent': 'small resistive cooking appliance', 'min_on_duration': 20, 'min_off_duration': 20, 'type': 'slow cooker', 'n_ancestors': 3, 'categories': {'traditional': 'cooking', 'size': 'small', 'google_shopping': ['kitchen and dining', 'kitchen appliances'], 'electrical': ['resistive']}, 'control': ['manual'], 'distributions': {'rooms': [{'distribution_of_data': {'categories': ['kitchen', 'utility'], 'values': [0.7, 0.1]}, 'source': 'subjective', 'from_appliance_type': 'small cooking appliance', 'distance': 2}]}}, 'microwave': {'parent': 'small cooking appliance', 'min_on_duration': 20, 'min_off_duration': 20, 'type': 'microwave', 'n_ancestors': 2, 'control': ['manual'], 'distributions': {'rooms': [{'distribution_of_data': {'categories': ['kitchen', 'utility'], 'values': [0.7, 0.1]}, 'source': 'subjective', 'from_appliance_type': 'small cooking appliance', 'distance': 1}]}, 'do_not_inherit': ['categories', 'synonyms', 'description', 'do_not_inherit'], 'categories': {'traditional': 'cooking', 'size': 'small', 'electrical': ['power electronics', 'passive PFC']}}, 'food processor': {'parent': 'small cooking appliance', 'min_on_duration': 20, 'min_off_duration': 20, 'type': 'food processor', 'n_ancestors': 2, 'control': ['manual'], 'distributions': {'rooms': [{'distribution_of_data': {'categories': ['kitchen', 'utility'], 'values': [0.7, 0.1]}, 'source': 'subjective', 'from_appliance_type': 'small cooking appliance', 'distance': 1}]}, 'do_not_inherit': ['categories', 'synonyms', 'description', 'do_not_inherit'], 'synonyms': ['food mixer'], 'categories': {'traditional': 'cooking', 'size': 'small', 'electrical': ['single-phase induction motor', 'capacitor start-run', 'constant torque']}}, 'kitchen aid': {'parent': 'food processor', 'min_on_duration': 20, 'min_off_duration': 20, 'type': 'kitchen aid', 'n_ancestors': 3, 'control': ['manual'], 'distributions': {'rooms': [{'distribution_of_data': {'categories': ['kitchen', 'utility'], 'values': [0.7, 0.1]}, 'source': 'subjective', 'from_appliance_type': 'small cooking appliance', 'distance': 2}]}, 'categories': {'traditional': 'cooking', 'size': 'small', 'electrical': ['single-phase induction motor', 'capacitor start-run', 'constant torque']}}, 'yoghurt maker': {'parent': 'small cooking appliance', 'min_on_duration': 20, 'min_off_duration': 20, 'type': 'yoghurt maker', 'n_ancestors': 2, 'categories': {'traditional': 'cooking', 'size': 'small', 'google_shopping': ['kitchen and dining', 'kitchen appliances']}, 'control': ['manual', 'timer'], 'distributions': {'rooms': [{'distribution_of_data': {'categories': ['kitchen', 'utility'], 'values': [0.7, 0.1]}, 'source': 'subjective', 'from_appliance_type': 'small cooking appliance', 'distance': 1}]}}, 'breadmaker': {'parent': 'small cooking appliance', 'min_on_duration': 20, 'min_off_duration': 20, 'type': 'breadmaker', 'n_ancestors': 2, 'categories': {'traditional': 'cooking', 'size': 'small', 'google_shopping': ['kitchen appliances', 'kitchen and dining', 'breadmakers'], 'electrical': ['resistive', 'single-phase induction motor']}, 'control': ['manual', 'timer'], 'distributions': {'rooms': [{'distribution_of_data': {'categories': ['kitchen', 'utility'], 'values': [0.7, 0.1]}, 'source': 'subjective', 'from_appliance_type': 'small cooking appliance', 'distance': 1}]}, 'components': [{'type': 'electric heating element', 'parent': 'component', 'n_ancestors': 1, 'categories': {'electrical': ['resistive']}}, {'type': 'motor', 'parent': 'component', 'n_ancestors': 1, 'categories': {'electrical': ['single-phase induction motor']}}]}, 'cooker': {'parent': 'small cooking appliance', 'min_on_duration': 20, 'min_off_duration': 20, 'type': 'cooker', 'n_ancestors': 2, 'control': ['manual', 'timer'], 'distributions': {'rooms': [{'distribution_of_data': {'categories': ['kitchen', 'utility'], 'values': [0.7, 0.1]}, 'source': 'subjective', 'from_appliance_type': 'small cooking appliance', 'distance': 1}]}, 'do_not_inherit': ['categories', 'synonyms', 'description', 'do_not_inherit'], 'categories': {'traditional': 'cooking', 'size': 'large'}, 'usual_components': ['stove', 'oven', 'grill'], 'additional_properties': {'fuel': {'enum': ['natural gas', 'coal', 'wood', 'oil', 'LPG'], 'description': 'if all components use the same fuel then specify the fuel once for the cooker.  Otherwise, if components use different fuels, then do not specify the fuel for the cooker but do specify fuels for each component.\\n'}}}, 'stove': {'parent': 'cooker', 'min_on_duration': 20, 'min_off_duration': 20, 'type': 'stove', 'n_ancestors': 3, 'control': ['manual', 'timer'], 'distributions': {'rooms': [{'distribution_of_data': {'categories': ['kitchen', 'utility'], 'values': [0.7, 0.1]}, 'source': 'subjective', 'from_appliance_type': 'small cooking appliance', 'distance': 2}]}, 'categories': {'traditional': 'cooking', 'size': 'large'}, 'additional_properties': {'fuel': {'enum': ['natural gas', 'coal', 'wood', 'oil', 'LPG'], 'description': 'if all components use the same fuel then specify the fuel once for the cooker.  Otherwise, if components use different fuels, then do not specify the fuel for the cooker but do specify fuels for each component.\\n'}}, 'do_not_inherit': ['usual_components', 'synonyms', 'description', 'do_not_inherit'], 'description': 'a non-electric stove or a stove with unknown heating source', 'synonyms': ['hob']}, 'electric stove': {'parent': 'stove', 'min_on_duration': 20, 'min_off_duration': 20, 'type': 'electric stove', 'n_ancestors': 4, 'control': ['manual', 'timer'], 'distributions': {'rooms': [{'distribution_of_data': {'categories': ['kitchen', 'utility'], 'values': [0.7, 0.1]}, 'source': 'subjective', 'from_appliance_type': 'small cooking appliance', 'distance': 3}]}, 'categories': {'traditional': 'cooking', 'size': 'large', 'electrical': ['resistive']}, 'description': 'a stove where the cooking heat is provided from electricity', 'do_not_inherit': ['additional_properties', 'synonyms', 'description', 'do_not_inherit']}, 'oven': {'parent': 'stove', 'min_on_duration': 20, 'min_off_duration': 20, 'type': 'oven', 'n_ancestors': 4, 'control': ['manual', 'timer'], 'distributions': {'rooms': [{'distribution_of_data': {'categories': ['kitchen', 'utility'], 'values': [0.7, 0.1]}, 'source': 'subjective', 'from_appliance_type': 'small cooking appliance', 'distance': 3}]}, 'categories': {'traditional': 'cooking', 'size': 'large'}, 'additional_properties': {'fuel': {'enum': ['natural gas', 'coal', 'wood', 'oil', 'LPG'], 'description': 'if all components use the same fuel then specify the fuel once for the cooker.  Otherwise, if components use different fuels, then do not specify the fuel for the cooker but do specify fuels for each component.\\n'}}, 'description': 'a non-electric oven or a oven with unknown heating source'}, 'electric oven': {'parent': 'electric stove', 'min_on_duration': 20, 'min_off_duration': 20, 'type': 'electric oven', 'n_ancestors': 5, 'control': ['manual', 'timer'], 'distributions': {'rooms': [{'distribution_of_data': {'categories': ['kitchen', 'utility'], 'values': [0.7, 0.1]}, 'source': 'subjective', 'from_appliance_type': 'small cooking appliance', 'distance': 4}]}, 'categories': {'traditional': 'cooking', 'size': 'large', 'electrical': ['resistive']}, 'description': 'an oven where the cooking heat is provided from electricity'}, 'grill': {'parent': 'stove', 'min_on_duration': 20, 'min_off_duration': 20, 'type': 'grill', 'n_ancestors': 4, 'control': ['manual', 'timer'], 'distributions': {'rooms': [{'distribution_of_data': {'categories': ['kitchen', 'utility'], 'values': [0.7, 0.1]}, 'source': 'subjective', 'from_appliance_type': 'small cooking appliance', 'distance': 3}]}, 'categories': {'traditional': 'cooking', 'size': 'large'}, 'additional_properties': {'fuel': {'enum': ['natural gas', 'coal', 'wood', 'oil', 'LPG'], 'description': 'if all components use the same fuel then specify the fuel once for the cooker.  Otherwise, if components use different fuels, then do not specify the fuel for the cooker but do specify fuels for each component.\\n'}}, 'description': 'a non-electric grill or a grill with unknown heating source'}, 'electric grill': {'parent': 'electric stove', 'min_on_duration': 20, 'min_off_duration': 20, 'type': 'electric grill', 'n_ancestors': 5, 'control': ['manual', 'timer'], 'distributions': {'rooms': [{'distribution_of_data': {'categories': ['kitchen', 'utility'], 'values': [0.7, 0.1]}, 'source': 'subjective', 'from_appliance_type': 'small cooking appliance', 'distance': 4}]}, 'categories': {'traditional': 'cooking', 'size': 'large', 'electrical': ['resistive']}, 'description': 'a grill where the cooking heat is provided from electricity'}, 'heating appliance': {'parent': 'appliance', 'min_on_duration': 20, 'min_off_duration': 20, 'type': 'heating appliance', 'n_ancestors': 1, 'categories': {'traditional': 'heating', 'size': 'large'}}, 'boiler': {'parent': 'heating appliance', 'min_on_duration': 20, 'min_off_duration': 20, 'type': 'boiler', 'n_ancestors': 2, 'categories': {'traditional': 'heating', 'size': 'large', 'google_shopping': ['climate control', 'furnaces and boilers'], 'electrical': ['single-phase induction motor']}, 'description': 'all boilers except for electric boilers', 'on_power_threshold': 40, 'synonyms': ['furnace'], 'components': [{'type': 'water pump', 'parent': 'motor', 'n_ancestors': 2, 'categories': {'electrical': ['single-phase induction motor']}}], 'additional_properties': {'fuel': {'enum': ['natural gas', 'coal', 'wood', 'oil', 'LPG']}}, 'subtypes': ['combi', 'system'], 'control': ['manual', 'timer', 'thermostat'], 'distributions': {'room': [{'distribution_of_data': {'categories': ['bathroom', 'utility', 'kitchen'], 'values': [0.3, 0.2, 0.2]}, 'source': 'subjective', 'from_appliance_type': 'boiler', 'distance': 0}]}}, 'electric furnace': {'parent': 'boiler', 'min_on_duration': 20, 'min_off_duration': 20, 'type': 'electric furnace', 'n_ancestors': 3, 'categories': {'traditional': 'heating', 'size': 'large', 'google_shopping': ['climate control', 'furnaces and boilers'], 'electrical': ['resistive', 'single-phase induction motor']}, 'on_power_threshold': 40, 'components': [{'type': 'water pump', 'parent': 'motor', 'n_ancestors': 2, 'categories': {'electrical': ['single-phase induction motor']}}, {'type': 'electric water heater', 'parent': 'electric heating element', 'n_ancestors': 2, 'categories': {'electrical': ['resistive']}, 'additional_properties': {'volume': {'type': 'number', 'description': 'litres'}}}], 'additional_properties': {'fuel': {'enum': ['natural gas', 'coal', 'wood', 'oil', 'LPG']}}, 'subtypes': ['combi', 'system'], 'control': ['manual', 'timer', 'thermostat'], 'distributions': {'room': [{'distribution_of_data': {'categories': ['bathroom', 'utility', 'kitchen'], 'values': [0.3, 0.2, 0.2]}, 'source': 'subjective', 'from_appliance_type': 'boiler', 'distance': 1}]}, 'description': 'a boiler where the heat is provided from electricity.', 'synonyms': ['electric boiler']}, 'electric space heater': {'parent': 'electric air heater', 'type': 'electric space heater', 'n_ancestors': 3, 'categories': {'electrical': ['resistive'], 'traditional': 'heating'}, 'control': ['manual', 'timer', 'thermostat']}, 'electric water heating appliance': {'parent': 'electric water heater', 'type': 'electric water heating appliance', 'n_ancestors': 3, 'categories': {'electrical': ['resistive'], 'traditional': 'heating'}, 'additional_properties': {'volume': {'type': 'number', 'description': 'litres'}}, 'control': ['manual', 'timer', 'thermostat']}, 'immersion heater': {'parent': 'electric water heating appliance', 'type': 'immersion heater', 'n_ancestors': 4, 'categories': {'electrical': ['resistive'], 'traditional': 'heating'}, 'additional_properties': {'volume': {'type': 'number', 'description': 'litres'}}, 'control': ['manual', 'timer', 'thermostat']}, 'electric swimming pool heater': {'parent': 'electric water heating appliance', 'type': 'electric swimming pool heater', 'n_ancestors': 4, 'categories': {'electrical': ['resistive'], 'traditional': 'heating'}, 'additional_properties': {'volume': {'type': 'number', 'description': 'litres'}}, 'control': ['manual', 'timer', 'thermostat']}, 'electric shower heater': {'parent': 'electric water heating appliance', 'type': 'electric shower heater', 'n_ancestors': 4, 'categories': {'electrical': ['resistive'], 'traditional': 'heating'}, 'additional_properties': {'volume': {'type': 'number', 'description': 'litres'}}, 'control': ['manual', 'timer', 'thermostat'], 'distributions': {'on_power': [{'model': {'distribution_name': 'summary stats', 'min': 4000, 'max': 9000}, 'source': 'empirical from publication', 'related_documents': ['P. D. R. Stamminger, Synergy potential of smart appliances,  in smart domestic appliances in sustainable energy systems (Smart-A), University of Bonn, Tech. Rep., 2008.\\n'], 'specific_to': {'country': 'GB'}, 'from_appliance_type': 'electric shower heater', 'distance': 0}]}}, 'electric hot tub heater': {'parent': 'electric water heating appliance', 'type': 'electric hot tub heater', 'n_ancestors': 4, 'categories': {'electrical': ['resistive'], 'traditional': 'heating'}, 'additional_properties': {'volume': {'type': 'number', 'description': 'litres'}}, 'control': ['manual', 'timer', 'thermostat']}, 'solar thermal pumping station': {'parent': 'heating appliance', 'min_on_duration': 20, 'min_off_duration': 20, 'type': 'solar thermal pumping station', 'n_ancestors': 2, 'categories': {'traditional': 'heating', 'size': 'large', 'google_shopping': ['renewable energy', 'solar energy', 'solar panels'], 'electrical': ['single-phase induction motor']}, 'components': [{'type': 'water pump', 'parent': 'motor', 'n_ancestors': 2, 'categories': {'electrical': ['single-phase induction motor']}}], 'control': ['manual', 'sunlight', 'timer'], 'on_power_threshold': 30}, 'heat pump': {'parent': 'heating appliance', 'min_on_duration': 20, 'min_off_duration': 20, 'type': 'heat pump', 'n_ancestors': 2, 'categories': {'traditional': 'heating', 'size': 'large', 'google_shopping': ['climate control']}, 'control': ['manual', 'timer', 'thermostat'], 'additional_properties': {'heat_source': {'enum': ['ground', 'air', 'water']}}}, 'electric blanket': {'parent': 'appliance', 'min_on_duration': 20, 'min_off_duration': 20, 'type': 'electric blanket', 'n_ancestors': 1, 'control': ['manual', 'timer'], 'distributions': {'room': [{'distribution_of_data': {'categories': ['bedroom'], 'values': [0.8]}, 'source': 'subjective', 'from_appliance_type': 'electric blanket', 'distance': 0}]}, 'categories': {}}, 'ICT appliance': {'parent': 'appliance', 'min_on_duration': 20, 'min_off_duration': 20, 'type': 'ICT appliance', 'n_ancestors': 1, 'categories': {'traditional': 'ICT', 'size': 'small', 'electrical': ['SMPS'], 'google_shopping': ['electronics']}}, 'computer': {'parent': 'ICT appliance', 'min_on_duration': 20, 'min_off_duration': 20, 'type': 'computer', 'n_ancestors': 2, 'categories': {'traditional': 'ICT', 'size': 'small', 'electrical': ['SMPS'], 'google_shopping': ['electronics', 'computers']}, 'additional_properties': {'cpu': {'type': 'string'}}, 'control': ['manual', 'timer']}, 'server computer': {'parent': 'computer', 'min_on_duration': 20, 'min_off_duration': 20, 'type': 'server computer', 'n_ancestors': 3, 'categories': {'traditional': 'ICT', 'size': 'small', 'electrical': ['SMPS'], 'google_shopping': ['electronics', 'computers']}, 'additional_properties': {'cpu': {'type': 'string'}}, 'control': ['manual', 'timer']}, 'laptop computer': {'parent': 'computer', 'min_on_duration': 20, 'min_off_duration': 20, 'type': 'laptop computer', 'n_ancestors': 3, 'categories': {'traditional': 'ICT', 'size': 'small', 'electrical': ['SMPS'], 'google_shopping': ['electronics', 'laptops', 'computers']}, 'additional_properties': {'cpu': {'type': 'string'}}, 'control': ['manual', 'timer']}, 'desktop computer': {'parent': 'computer', 'min_on_duration': 20, 'min_off_duration': 20, 'type': 'desktop computer', 'n_ancestors': 3, 'categories': {'traditional': 'ICT', 'size': 'small', 'electrical': ['SMPS'], 'google_shopping': ['electronics', 'computers']}, 'additional_properties': {'cpu': {'type': 'string'}}, 'control': ['manual', 'timer']}, 'HTPC': {'parent': 'computer', 'min_on_duration': 20, 'min_off_duration': 20, 'type': 'HTPC', 'n_ancestors': 3, 'categories': {'traditional': 'ICT', 'size': 'small', 'electrical': ['SMPS'], 'google_shopping': ['electronics', 'computers']}, 'additional_properties': {'cpu': {'type': 'string'}}, 'control': ['manual', 'timer'], 'synonyms': ['Home Theatre PC']}, 'computer monitor': {'parent': 'ICT appliance', 'min_on_duration': 20, 'min_off_duration': 20, 'type': 'computer monitor', 'n_ancestors': 2, 'categories': {'traditional': 'ICT', 'size': 'small', 'electrical': ['SMPS'], 'google_shopping': ['electronics']}, 'usual_components': ['CRT screen', 'flat screen']}, 'printer': {'parent': 'ICT appliance', 'min_on_duration': 20, 'min_off_duration': 20, 'type': 'printer', 'n_ancestors': 2, 'categories': {'traditional': 'ICT', 'size': 'small', 'electrical': ['SMPS'], 'google_shopping': ['electronics', 'print, copy, scan and fax', 'printers and copiers', 'printers']}, 'description': \"if known then please specify a 'small printer' or 'large printer' as the two have quite different power consumption profiles.\\n\", 'subtypes': ['laser', 'LED', 'inkjet', 'dot matrix']}, 'small printer': {'parent': 'printer', 'min_on_duration': 20, 'min_off_duration': 20, 'type': 'small printer', 'n_ancestors': 3, 'categories': {'traditional': 'ICT', 'size': 'small', 'electrical': ['SMPS'], 'google_shopping': ['electronics', 'print, copy, scan and fax', 'printers and copiers', 'printers']}, 'subtypes': ['laser', 'LED', 'inkjet', 'dot matrix']}, 'large printer': {'parent': 'printer', 'min_on_duration': 20, 'min_off_duration': 20, 'type': 'large printer', 'n_ancestors': 3, 'categories': {'traditional': 'ICT', 'size': 'small', 'electrical': ['SMPS'], 'google_shopping': ['electronics', 'print, copy, scan and fax', 'printers and copiers', 'printers']}, 'subtypes': ['laser', 'LED', 'inkjet', 'dot matrix']}, 'scanner': {'parent': 'ICT appliance', 'min_on_duration': 20, 'min_off_duration': 20, 'type': 'scanner', 'n_ancestors': 2, 'categories': {'traditional': 'ICT', 'size': 'small', 'electrical': ['SMPS'], 'google_shopping': ['electronics']}}, 'photocopier': {'parent': 'ICT appliance', 'min_on_duration': 20, 'min_off_duration': 20, 'type': 'photocopier', 'n_ancestors': 2, 'categories': {'traditional': 'ICT', 'size': 'small', 'electrical': ['SMPS'], 'google_shopping': ['electronics', 'print, copy, scan and fax', 'printers and copiers', 'copiers']}}, 'fax': {'parent': 'ICT appliance', 'min_on_duration': 20, 'min_off_duration': 20, 'type': 'fax', 'n_ancestors': 2, 'categories': {'traditional': 'ICT', 'size': 'small', 'electrical': ['SMPS'], 'google_shopping': ['electronics', 'print, copy, scan and fax', 'fax machines']}}, 'multi-function device': {'parent': 'ICT appliance', 'min_on_duration': 20, 'min_off_duration': 20, 'type': 'multi-function device', 'n_ancestors': 2, 'categories': {'traditional': 'ICT', 'size': 'small', 'electrical': ['SMPS'], 'google_shopping': ['electronics']}, 'usual_components': ['fax', 'printer', 'photocopier', 'scanner']}, 'charger': {'parent': 'ICT appliance', 'min_on_duration': 20, 'min_off_duration': 20, 'type': 'charger', 'n_ancestors': 2, 'categories': {'traditional': 'ICT', 'size': 'small', 'electrical': ['SMPS'], 'google_shopping': ['electronics']}}, 'mobile phone charger': {'parent': 'charger', 'min_on_duration': 20, 'min_off_duration': 20, 'type': 'mobile phone charger', 'n_ancestors': 3, 'categories': {'traditional': 'ICT', 'size': 'small', 'electrical': ['SMPS'], 'google_shopping': ['electronics']}}, 'wireless phone charger': {'parent': 'charger', 'min_on_duration': 20, 'min_off_duration': 20, 'type': 'wireless phone charger', 'n_ancestors': 3, 'categories': {'traditional': 'ICT', 'size': 'small', 'electrical': ['SMPS'], 'google_shopping': ['electronics']}}, 'tablet computer charger': {'parent': 'charger', 'min_on_duration': 20, 'min_off_duration': 20, 'type': 'tablet computer charger', 'n_ancestors': 3, 'categories': {'traditional': 'ICT', 'size': 'small', 'electrical': ['SMPS'], 'google_shopping': ['electronics']}}, 'external hard disk': {'parent': 'ICT appliance', 'min_on_duration': 20, 'min_off_duration': 20, 'type': 'external hard disk', 'n_ancestors': 2, 'categories': {'traditional': 'ICT', 'size': 'small', 'electrical': ['SMPS'], 'google_shopping': ['electronics']}}, 'network attached storage': {'parent': 'ICT appliance', 'min_on_duration': 20, 'min_off_duration': 20, 'type': 'network attached storage', 'n_ancestors': 2, 'categories': {'traditional': 'ICT', 'size': 'small', 'electrical': ['SMPS'], 'google_shopping': ['electronics']}, 'synonyms': ['NAS']}, 'broadband router': {'parent': 'ICT appliance', 'min_on_duration': 20, 'min_off_duration': 20, 'type': 'broadband router', 'n_ancestors': 2, 'categories': {'traditional': 'ICT', 'size': 'small', 'electrical': ['SMPS'], 'google_shopping': ['electronics']}}, 'ethernet switch': {'parent': 'ICT appliance', 'min_on_duration': 20, 'min_off_duration': 20, 'type': 'ethernet switch', 'n_ancestors': 2, 'categories': {'traditional': 'ICT', 'size': 'small', 'electrical': ['SMPS'], 'google_shopping': ['electronics']}, 'subtypes': ['1gigabit', '100megabit']}, 'ethernet hub': {'parent': 'ethernet switch', 'min_on_duration': 20, 'min_off_duration': 20, 'type': 'ethernet hub', 'n_ancestors': 3, 'categories': {'traditional': 'ICT', 'size': 'small', 'electrical': ['SMPS'], 'google_shopping': ['electronics']}, 'subtypes': ['1gigabit', '100megabit']}, 'modem': {'parent': 'ethernet switch', 'min_on_duration': 20, 'min_off_duration': 20, 'type': 'modem', 'n_ancestors': 3, 'categories': {'traditional': 'ICT', 'size': 'small', 'electrical': ['SMPS'], 'google_shopping': ['electronics']}, 'subtypes': ['1gigabit', '100megabit']}, 'USB hub': {'parent': 'ICT appliance', 'min_on_duration': 20, 'min_off_duration': 20, 'type': 'USB hub', 'n_ancestors': 2, 'categories': {'traditional': 'ICT', 'size': 'small', 'electrical': ['SMPS'], 'google_shopping': ['electronics']}}, 'UPS': {'parent': 'ICT appliance', 'min_on_duration': 20, 'min_off_duration': 20, 'type': 'UPS', 'n_ancestors': 2, 'categories': {'traditional': 'ICT', 'size': 'small', 'electrical': ['SMPS'], 'google_shopping': ['electronics']}, 'synonyms': ['uninterruptible power supply']}, 'paper shredder': {'parent': 'ICT appliance', 'min_on_duration': 20, 'min_off_duration': 20, 'type': 'paper shredder', 'n_ancestors': 2, 'categories': {'traditional': 'ICT', 'size': 'small', 'electrical': ['SMPS'], 'google_shopping': ['electronics']}}, 'light': {'parent': 'appliance', 'min_on_duration': 20, 'min_off_duration': 20, 'type': 'light', 'n_ancestors': 1, 'description': \"We distinguish between the 'luminaire' (light fitting) and the\\nelectric lamp(s) within the light fitting.\\n\\nSee:\\n  - https://en.wikipedia.org/wiki/Luminaire \\n  - https://en.wikipedia.org/wiki/Lamp_%28electrical_component%29\\n\\nThe light appliance takes its category from the lamp type fitted.\\n\", 'categories': {'electrical': ['lighting']}, 'synonyms': ['luminaire', 'light fitting'], 'usual_components': ['dimmer', 'lamp'], 'additional_properties': {'main_room_light': {'type': 'boolean'}}, 'subtypes': ['ceiling pendant', 'ceiling downlight', 'desk', 'wall', 'table', 'floor standing', 'floor level', 'decorative', 'night light', 'signage', 'outdoor', 'mood'], 'control': ['manual', 'timer']}, 'lighting component': {'parent': 'component', 'type': 'lighting component', 'n_ancestors': 1, 'categories': {'electrical': ['lighting']}}, 'lamp': {'parent': 'lighting component', 'type': 'lamp', 'n_ancestors': 2, 'categories': {'electrical': ['lighting']}}, 'incandescent lamp': {'parent': 'lamp', 'type': 'incandescent lamp', 'n_ancestors': 3, 'categories': {'electrical': ['incandescent', 'lighting']}, 'subtypes': ['halogen']}, 'LED lamp': {'parent': 'lamp', 'type': 'LED lamp', 'n_ancestors': 3, 'categories': {'electrical': ['lighting', 'LED']}}, 'fluorescent lamp': {'parent': 'lamp', 'type': 'fluorescent lamp', 'n_ancestors': 3, 'categories': {'electrical': ['fluorescent', 'lighting']}}, 'linear fluorescent lamp': {'parent': 'fluorescent lamp', 'type': 'linear fluorescent lamp', 'n_ancestors': 4, 'categories': {'electrical': ['fluorescent', 'linear', 'lighting']}, 'synonyms': ['strip light']}, 'compact fluorescent lamp': {'parent': 'fluorescent lamp', 'type': 'compact fluorescent lamp', 'n_ancestors': 4, 'categories': {'electrical': ['fluorescent', 'compact', 'lighting']}, 'synonyms': ['CFL']}, 'arc lamp': {'parent': 'lamp', 'type': 'arc lamp', 'n_ancestors': 3, 'categories': {'electrical': ['lighting']}}, 'gas discharge lamp': {'parent': 'lamp', 'type': 'gas discharge lamp', 'n_ancestors': 3, 'categories': {'electrical': ['lighting']}, 'subtypes': ['mercury-vapor', 'metal-halide', 'sodium-vapor', 'neon']}, 'dimmer': {'parent': 'lighting component', 'type': 'dimmer', 'n_ancestors': 2, 'categories': {'electrical': ['lighting']}, 'additional_properties': {'number_of_dimmer_levels': {'type': 'integer', 'description': 'not including OFF'}}, 'subtypes': ['TRIAC']}, 'manual misc appliance': {'parent': 'appliance', 'min_on_duration': 20, 'min_off_duration': 20, 'type': 'manual misc appliance', 'n_ancestors': 1, 'control': ['manual'], 'categories': {}}, 'vacuum cleaner': {'parent': 'manual misc appliance', 'min_on_duration': 20, 'min_off_duration': 20, 'type': 'vacuum cleaner', 'n_ancestors': 2, 'control': ['manual'], 'synonyms': ['vaccum cleaner'], 'components': [{'type': 'motor', 'parent': 'component', 'n_ancestors': 1, 'categories': {'electrical': ['single-phase induction motor']}}], 'categories': {'electrical': ['single-phase induction motor']}}, 'sewing machine': {'parent': 'manual misc appliance', 'min_on_duration': 20, 'min_off_duration': 20, 'type': 'sewing machine', 'n_ancestors': 2, 'control': ['manual'], 'components': [{'type': 'motor', 'parent': 'component', 'n_ancestors': 1, 'categories': {'electrical': ['single-phase induction motor']}}], 'categories': {'electrical': ['single-phase induction motor']}}, 'hair dryer': {'parent': 'manual misc appliance', 'min_on_duration': 15, 'min_off_duration': 300, 'type': 'hair dryer', 'n_ancestors': 2, 'control': ['manual'], 'categories': {'electrical': ['resistive']}}, 'hair straighteners': {'parent': 'manual misc appliance', 'min_on_duration': 20, 'min_off_duration': 20, 'type': 'hair straighteners', 'n_ancestors': 2, 'control': ['manual'], 'categories': {'electrical': ['resistive']}}, 'sun bed': {'parent': 'manual misc appliance', 'min_on_duration': 20, 'min_off_duration': 20, 'type': 'sun bed', 'n_ancestors': 2, 'control': ['manual'], 'categories': {}}, 'trouser press': {'parent': 'manual misc appliance', 'min_on_duration': 20, 'min_off_duration': 20, 'type': 'trouser press', 'n_ancestors': 2, 'control': ['manual'], 'categories': {}}, 'clothes iron': {'parent': 'manual misc appliance', 'min_on_duration': 20, 'min_off_duration': 20, 'type': 'clothes iron', 'n_ancestors': 2, 'control': ['manual'], 'categories': {'electrical': ['resistive']}, 'subtypes': ['dry', 'steam']}, 'motorised chair': {'parent': 'manual misc appliance', 'min_on_duration': 20, 'min_off_duration': 20, 'type': 'motorised chair', 'n_ancestors': 2, 'control': ['manual'], 'categories': {}}, 'massage bed': {'parent': 'manual misc appliance', 'min_on_duration': 20, 'min_off_duration': 20, 'type': 'massage bed', 'n_ancestors': 2, 'control': ['manual'], 'categories': {}}, 'running machine': {'parent': 'manual misc appliance', 'min_on_duration': 20, 'min_off_duration': 20, 'type': 'running machine', 'n_ancestors': 2, 'control': ['manual'], 'categories': {}}, 'soldering iron': {'parent': 'manual misc appliance', 'min_on_duration': 20, 'min_off_duration': 20, 'type': 'soldering iron', 'n_ancestors': 2, 'control': ['manual'], 'categories': {'electrical': ['resistive']}}, 'drill': {'parent': 'manual misc appliance', 'min_on_duration': 20, 'min_off_duration': 20, 'type': 'drill', 'n_ancestors': 2, 'control': ['manual'], 'components': [{'type': 'motor', 'parent': 'component', 'n_ancestors': 1, 'categories': {'electrical': ['single-phase induction motor']}}], 'categories': {'electrical': ['single-phase induction motor']}}, 'saw': {'parent': 'manual misc appliance', 'min_on_duration': 20, 'min_off_duration': 20, 'type': 'saw', 'n_ancestors': 2, 'control': ['manual'], 'components': [{'type': 'motor', 'parent': 'component', 'n_ancestors': 1, 'categories': {'electrical': ['single-phase induction motor']}}], 'categories': {'electrical': ['single-phase induction motor']}}, 'dehumidifier': {'parent': 'appliance', 'min_on_duration': 20, 'min_off_duration': 20, 'type': 'dehumidifier', 'n_ancestors': 1, 'categories': {}}, 'electric vehicle': {'parent': 'appliance', 'min_on_duration': 20, 'min_off_duration': 20, 'type': 'electric vehicle', 'n_ancestors': 1, 'categories': {}}, 'unknown': {'parent': 'appliance', 'min_on_duration': 20, 'min_off_duration': 20, 'type': 'unknown', 'n_ancestors': 1, 'categories': {}}, 'sockets': {'parent': 'appliance', 'min_on_duration': 20, 'min_off_duration': 20, 'type': 'sockets', 'n_ancestors': 1, 'categories': {}}, 'subpanel': {'parent': 'appliance', 'min_on_duration': 20, 'min_off_duration': 20, 'type': 'subpanel', 'n_ancestors': 1, 'categories': {}}, 'bouncy castle pump': {'parent': 'motor', 'type': 'bouncy castle pump', 'n_ancestors': 2, 'categories': {'electrical': ['single-phase induction motor']}}, 'wet appliance': {'parent': 'appliance', 'min_on_duration': 20, 'min_off_duration': 20, 'type': 'wet appliance', 'n_ancestors': 1, 'categories': {'traditional': 'wet', 'size': 'large', 'google_shopping': ['laundry appliances']}, 'control': ['manual'], 'distributions': {'rooms': [{'distribution_of_data': {'categories': ['kitchen', 'utility', 'basement', 'garage'], 'values': [0.3, 0.3, 0.2, 0.1]}, 'source': 'subjective', 'from_appliance_type': 'wet appliance', 'distance': 0}]}}, 'spin dryer': {'parent': 'wet appliance', 'min_on_duration': 20, 'min_off_duration': 20, 'type': 'spin dryer', 'n_ancestors': 2, 'categories': {'traditional': 'wet', 'size': 'large', 'google_shopping': ['laundry appliances'], 'electrical': ['single-phase induction motor']}, 'control': ['manual', 'timer'], 'distributions': {'rooms': [{'distribution_of_data': {'categories': ['kitchen', 'utility', 'basement', 'garage'], 'values': [0.3, 0.3, 0.2, 0.1]}, 'source': 'subjective', 'from_appliance_type': 'wet appliance', 'distance': 1}]}, 'subtypes': ['top-loader', 'front-loader'], 'components': [{'type': 'motor', 'description': 'drum motor', 'parent': 'component', 'n_ancestors': 1, 'categories': {'electrical': ['single-phase induction motor']}}, {'type': 'water pump', 'parent': 'motor', 'n_ancestors': 2, 'categories': {'electrical': ['single-phase induction motor']}}]}, 'tumble dryer': {'parent': 'spin dryer', 'min_on_duration': 20, 'min_off_duration': 20, 'type': 'tumble dryer', 'n_ancestors': 3, 'categories': {'traditional': 'wet', 'size': 'large', 'google_shopping': ['laundry appliances'], 'electrical': ['resistive', 'single-phase induction motor']}, 'control': ['manual', 'timer'], 'distributions': {'rooms': [{'distribution_of_data': {'categories': ['kitchen', 'utility', 'basement', 'garage'], 'values': [0.3, 0.3, 0.2, 0.1]}, 'source': 'subjective', 'from_appliance_type': 'wet appliance', 'distance': 2}]}, 'subtypes': ['top-loader', 'front-loader'], 'components': [{'type': 'motor', 'description': 'drum motor', 'parent': 'component', 'n_ancestors': 1, 'categories': {'electrical': ['single-phase induction motor']}}, {'type': 'water pump', 'parent': 'motor', 'n_ancestors': 2, 'categories': {'electrical': ['single-phase induction motor']}}, {'type': 'electric air heater', 'description': 'clothes drying heating element', 'parent': 'electric heating element', 'n_ancestors': 2, 'categories': {'electrical': ['resistive']}}]}, 'washing machine': {'parent': 'spin dryer', 'min_on_duration': 600, 'min_off_duration': 300, 'type': 'washing machine', 'n_ancestors': 3, 'categories': {'traditional': 'wet', 'size': 'large', 'google_shopping': ['laundry appliances'], 'electrical': ['resistive', 'single-phase induction motor']}, 'control': ['manual', 'timer'], 'distributions': {'rooms': [{'distribution_of_data': {'categories': ['kitchen', 'utility', 'basement', 'garage'], 'values': [0.3, 0.3, 0.2, 0.1]}, 'source': 'subjective', 'from_appliance_type': 'wet appliance', 'distance': 2}]}, 'subtypes': ['top-loader', 'front-loader'], 'components': [{'type': 'motor', 'description': 'drum motor', 'parent': 'component', 'n_ancestors': 1, 'categories': {'electrical': ['single-phase induction motor']}}, {'type': 'water pump', 'parent': 'motor', 'n_ancestors': 2, 'categories': {'electrical': ['single-phase induction motor']}}, {'type': 'electric water heater', 'parent': 'electric heating element', 'n_ancestors': 2, 'categories': {'electrical': ['resistive']}, 'additional_properties': {'volume': {'type': 'number', 'description': 'litres'}}}], 'synonyms': ['washer dryer']}, 'washer dryer': {'parent': 'washing machine', 'min_on_duration': 600, 'min_off_duration': 300, 'type': 'washer dryer', 'n_ancestors': 4, 'categories': {'traditional': 'wet', 'size': 'large', 'google_shopping': ['laundry appliances'], 'electrical': ['resistive', 'single-phase induction motor']}, 'control': ['manual', 'timer'], 'distributions': {'rooms': [{'distribution_of_data': {'categories': ['kitchen', 'utility', 'basement', 'garage'], 'values': [0.3, 0.3, 0.2, 0.1]}, 'source': 'subjective', 'from_appliance_type': 'wet appliance', 'distance': 3}]}, 'subtypes': ['top-loader', 'front-loader'], 'components': [{'type': 'motor', 'description': 'drum motor', 'parent': 'component', 'n_ancestors': 1, 'categories': {'electrical': ['single-phase induction motor']}}, {'type': 'water pump', 'parent': 'motor', 'n_ancestors': 2, 'categories': {'electrical': ['single-phase induction motor']}}, {'type': 'electric water heater', 'parent': 'electric heating element', 'n_ancestors': 2, 'categories': {'electrical': ['resistive']}, 'additional_properties': {'volume': {'type': 'number', 'description': 'litres'}}}, {'type': 'electric air heater', 'description': 'clothes drying heating element', 'parent': 'electric heating element', 'n_ancestors': 2, 'categories': {'electrical': ['resistive']}}], 'synonyms': ['washing machine']}, 'dish washer': {'parent': 'wet appliance', 'min_on_duration': 600, 'min_off_duration': 1800, 'type': 'dish washer', 'n_ancestors': 2, 'categories': {'traditional': 'wet', 'size': 'large', 'google_shopping': ['laundry appliances'], 'electrical': ['resistive', 'single-phase induction motor']}, 'control': ['manual'], 'distributions': {'rooms': [{'distribution_of_data': {'categories': ['kitchen', 'utility', 'basement', 'garage'], 'values': [0.3, 0.3, 0.2, 0.1]}, 'source': 'subjective', 'from_appliance_type': 'wet appliance', 'distance': 1}], 'on_duration': [{'model': {'distribution_name': 'summary stats', 'min': 900, 'mean': 4500, 'max': 10800}, 'source': 'empirical from publication', 'related_documents': ['P. D. R. Stamminger, Synergy potential of smart appliances,  in smart domestic appliances in sustainable energy systems (Smart-A), University of Bonn, Tech. Rep., 2008.\\n'], 'from_appliance_type': 'dish washer', 'distance': 0}]}, 'components': [{'type': 'electric air heater', 'parent': 'electric heating element', 'n_ancestors': 2, 'categories': {'electrical': ['resistive']}}, {'type': 'electric water heater', 'distributions': {'on_power': [{'model': {'distribution_name': 'summary stats', 'min': 1800, 'max': 2500, 'source': 'empirical from publication', 'related_documents': ['P. D. R. Stamminger, Synergy potential of smart appliances,  in smart domestic appliances in sustainable energy systems (Smart-A), University of Bonn, Tech. Rep., 2008.\\n']}, 'specific_to': {'country': 'GB'}}]}, 'parent': 'electric heating element', 'n_ancestors': 2, 'categories': {'electrical': ['resistive']}, 'additional_properties': {'volume': {'type': 'number', 'description': 'litres'}}}, {'type': 'motor', 'parent': 'component', 'n_ancestors': 1, 'categories': {'electrical': ['single-phase induction motor']}}]}, 'dishwasher': {'parent': 'dish washer', 'min_on_duration': 600, 'min_off_duration': 1800, 'type': 'dishwasher', 'n_ancestors': 3, 'categories': {'traditional': 'wet', 'size': 'large', 'google_shopping': ['laundry appliances'], 'electrical': ['resistive', 'single-phase induction motor']}, 'control': ['manual'], 'distributions': {'rooms': [{'distribution_of_data': {'categories': ['kitchen', 'utility', 'basement', 'garage'], 'values': [0.3, 0.3, 0.2, 0.1]}, 'source': 'subjective', 'from_appliance_type': 'wet appliance', 'distance': 2}], 'on_duration': [{'model': {'distribution_name': 'summary stats', 'min': 900, 'mean': 4500, 'max': 10800}, 'source': 'empirical from publication', 'related_documents': ['P. D. R. Stamminger, Synergy potential of smart appliances,  in smart domestic appliances in sustainable energy systems (Smart-A), University of Bonn, Tech. Rep., 2008.\\n'], 'from_appliance_type': 'dish washer', 'distance': 1}]}, 'components': [{'type': 'electric air heater', 'parent': 'electric heating element', 'n_ancestors': 2, 'categories': {'electrical': ['resistive']}}, {'type': 'electric water heater', 'distributions': {'on_power': [{'model': {'distribution_name': 'summary stats', 'min': 1800, 'max': 2500, 'source': 'empirical from publication', 'related_documents': ['P. D. R. Stamminger, Synergy potential of smart appliances,  in smart domestic appliances in sustainable energy systems (Smart-A), University of Bonn, Tech. Rep., 2008.\\n']}, 'specific_to': {'country': 'GB'}}]}, 'parent': 'electric heating element', 'n_ancestors': 2, 'categories': {'electrical': ['resistive']}, 'additional_properties': {'volume': {'type': 'number', 'description': 'litres'}}}, {'type': 'motor', 'parent': 'component', 'n_ancestors': 1, 'categories': {'electrical': ['single-phase induction motor']}}]}, 'waste disposal unit': {'parent': 'wet appliance', 'min_on_duration': 20, 'min_off_duration': 20, 'type': 'waste disposal unit', 'n_ancestors': 2, 'categories': {'traditional': 'wet', 'size': 'large', 'google_shopping': ['laundry appliances']}, 'control': ['manual'], 'distributions': {'rooms': [{'distribution_of_data': {'categories': ['kitchen', 'utility', 'basement', 'garage'], 'values': [0.3, 0.3, 0.2, 0.1]}, 'source': 'subjective', 'from_appliance_type': 'wet appliance', 'distance': 1}]}}, 'shower pump': {'parent': 'water pump', 'type': 'shower pump', 'n_ancestors': 3, 'categories': {'electrical': ['single-phase induction motor'], 'google_shopping': ['plumbing', 'plumbing fixtures', 'shower']}, 'synonyms': ['power shower'], 'description': \"note that this does not for an electrically heated shower.  For that, please use 'electric shower heater'\\n\"}, 'acquarium pump': {'parent': 'water pump', 'type': 'acquarium pump', 'n_ancestors': 3, 'categories': {'electrical': ['single-phase induction motor']}}, 'swimming pool pump': {'parent': 'water pump', 'type': 'swimming pool pump', 'n_ancestors': 3, 'categories': {'electrical': ['single-phase induction motor']}}, 'pond pump': {'parent': 'water pump', 'type': 'pond pump', 'n_ancestors': 3, 'categories': {'electrical': ['single-phase induction motor']}}, 'hot tub pump': {'parent': 'water pump', 'type': 'hot tub pump', 'n_ancestors': 3, 'categories': {'electrical': ['single-phase induction motor']}}, 'jacuzzi pump': {'parent': 'water pump', 'type': 'jacuzzi pump', 'n_ancestors': 3, 'categories': {'electrical': ['single-phase induction motor']}}, 'garden sprinkler': {'parent': 'appliance', 'min_on_duration': 20, 'min_off_duration': 20, 'type': 'garden sprinkler', 'n_ancestors': 1, 'categories': {}}, 'water filter': {'parent': 'appliance', 'min_on_duration': 20, 'min_off_duration': 20, 'type': 'water filter', 'n_ancestors': 1, 'categories': {}}}\n",
      "____________________\n",
      "['/building1/elec/meter1', '/building1/elec/meter2', '/building1/elec/meter3', '/building1/elec/meter4', '/building1/elec/meter5', '/building1/elec/meter6', '/building1/elec/meter7', '/building1/elec/meter8']\n",
      "_________________________\n",
      "Done converting YAML metadata to HDF5!\n",
      "Done converting PILM to HDF5!\n"
     ]
    }
   ],
   "source": [
    "building.create_metadata()\n",
    "from convert_pilm import convert_pilm\n",
    "convert_pilm(r'C:\\Users\\ASUS\\Desktop\\pnilm\\dataset\\metadata\\building1','..//dataset','refit_fan_average.h5')"
   ],
   "metadata": {
    "collapsed": false
   }
  },
  {
   "cell_type": "code",
   "execution_count": 14,
   "outputs": [],
   "source": [
    "import os\n",
    "import pickle\n",
    "time_dictionary = {}\n",
    "activation_path = r\"C:\\Users\\ASUS\\Desktop\\pnilm\\data\\refit_data\\used_time\"\n",
    "for i in os.listdir(activation_path):\n",
    "    path = os.path.join(activation_path,i)\n",
    "    with open(path, \"rb\") as f:\n",
    "        time_dictionary[i] = pickle.load(f)"
   ],
   "metadata": {
    "collapsed": false
   }
  },
  {
   "cell_type": "code",
   "execution_count": 15,
   "outputs": [],
   "source": [
    "background = Appliance_from_csv(\"fridge\",dataset_time.start,dataset_time.end,8,r\"C:\\Users\\ASUS\\Desktop\\pnilm\\data\\refit_data\\background_noise.csv\", number_of_states=3)"
   ],
   "metadata": {
    "collapsed": false
   }
  },
  {
   "cell_type": "code",
   "execution_count": 16,
   "outputs": [],
   "source": [
    "import os\n",
    "import pickle\n",
    "time_dictionary = {}\n",
    "activation_path = r\"C:\\Users\\ASUS\\Desktop\\pnilm\\data\\refit_data\\used_time\"\n",
    "for i in os.listdir(activation_path):\n",
    "    path = os.path.join(activation_path,i)\n",
    "    with open(path, \"rb\") as f:\n",
    "        time_dictionary[i] = pickle.load(f)"
   ],
   "metadata": {
    "collapsed": false
   }
  },
  {
   "cell_type": "code",
   "execution_count": 17,
   "outputs": [],
   "source": [
    "fridge_path = r'C:\\Users\\ASUS\\Desktop\\最后一击\\fridge'\n",
    "df = pd.read_csv(os.path.join(fridge_path, \"fridge\"+str(0.2)+'.csv'))\n",
    "df.index=df[\"Date\"]\n",
    "df = df.iloc[:,1]"
   ],
   "metadata": {
    "collapsed": false
   }
  },
  {
   "cell_type": "code",
   "execution_count": 18,
   "outputs": [],
   "source": [
    "rates=[0.2, 0.4, 0.6, 0.8, 1]"
   ],
   "metadata": {
    "collapsed": false
   }
  },
  {
   "cell_type": "code",
   "execution_count": 19,
   "outputs": [
    {
     "data": {
      "text/plain": "'2014-08-10 05:35:04'"
     },
     "execution_count": 19,
     "metadata": {},
     "output_type": "execute_result"
    }
   ],
   "source": [
    "import datetime\n",
    "str(datetime.datetime.strptime(time_dictionary[\"washing machine.pkl\"][-1][0],\"%Y-%m-%d %H:%M:%S\")+ datetime.timedelta(0,8))"
   ],
   "metadata": {
    "collapsed": false
   }
  },
  {
   "cell_type": "code",
   "execution_count": 21,
   "outputs": [
    {
     "ename": "TypeError",
     "evalue": "__init__() missing 1 required positional argument: 'sample_rate'",
     "output_type": "error",
     "traceback": [
      "\u001B[1;31m---------------------------------------------------------------------------\u001B[0m",
      "\u001B[1;31mTypeError\u001B[0m                                 Traceback (most recent call last)",
      "Cell \u001B[1;32mIn[21], line 2\u001B[0m\n\u001B[0;32m      1\u001B[0m fridge_path \u001B[38;5;241m=\u001B[39m \u001B[38;5;124mr\u001B[39m\u001B[38;5;124m'\u001B[39m\u001B[38;5;124mC:\u001B[39m\u001B[38;5;124m\\\u001B[39m\u001B[38;5;124mUsers\u001B[39m\u001B[38;5;124m\\\u001B[39m\u001B[38;5;124mASUS\u001B[39m\u001B[38;5;124m\\\u001B[39m\u001B[38;5;124mDesktop\u001B[39m\u001B[38;5;124m\\\u001B[39m\u001B[38;5;124m最后一击\u001B[39m\u001B[38;5;124m\\\u001B[39m\u001B[38;5;124mfridge\u001B[39m\u001B[38;5;124m'\u001B[39m\n\u001B[1;32m----> 2\u001B[0m \u001B[43mAppliance_from_csv\u001B[49m\u001B[43m(\u001B[49m\u001B[43mfridge_path\u001B[49m\u001B[43m,\u001B[49m\u001B[43mdataset_time\u001B[49m\u001B[38;5;241;43m.\u001B[39;49m\u001B[43mstart\u001B[49m\u001B[43m,\u001B[49m\u001B[43m \u001B[49m\u001B[43mdataset_time\u001B[49m\u001B[38;5;241;43m.\u001B[39;49m\u001B[43mend\u001B[49m\u001B[43m)\u001B[49m\n",
      "\u001B[1;31mTypeError\u001B[0m: __init__() missing 1 required positional argument: 'sample_rate'"
     ]
    }
   ],
   "source": [
    "fridge_path = r'C:\\Users\\ASUS\\Desktop\\最后一击\\fridge'\n",
    "Appliance_from_csv(fridge_path,dataset_time.start, dataset_time.end)"
   ],
   "metadata": {
    "collapsed": false
   }
  },
  {
   "cell_type": "code",
   "execution_count": 22,
   "outputs": [
    {
     "ename": "ValueError",
     "evalue": "Must have equal len keys and value when setting with an ndarray",
     "output_type": "error",
     "traceback": [
      "\u001B[1;31m---------------------------------------------------------------------------\u001B[0m",
      "\u001B[1;31mValueError\u001B[0m                                Traceback (most recent call last)",
      "Cell \u001B[1;32mIn[22], line 5\u001B[0m\n\u001B[0;32m      3\u001B[0m \u001B[38;5;28;01mfor\u001B[39;00m i, rate \u001B[38;5;129;01min\u001B[39;00m \u001B[38;5;28menumerate\u001B[39m(rates):\n\u001B[0;32m      4\u001B[0m     refit7 \u001B[38;5;241m=\u001B[39m Appliance_from_csv(\u001B[38;5;124m'\u001B[39m\u001B[38;5;124mfridge\u001B[39m\u001B[38;5;124m'\u001B[39m, dataset_time\u001B[38;5;241m.\u001B[39mstart, dataset_time\u001B[38;5;241m.\u001B[39mend, \u001B[38;5;241m8\u001B[39m, os\u001B[38;5;241m.\u001B[39mpath\u001B[38;5;241m.\u001B[39mjoin(fridge_path, \u001B[38;5;124m\"\u001B[39m\u001B[38;5;124mfridge\u001B[39m\u001B[38;5;124m\"\u001B[39m\u001B[38;5;241m+\u001B[39m\u001B[38;5;28mstr\u001B[39m(rate)\u001B[38;5;241m+\u001B[39m\u001B[38;5;124m'\u001B[39m\u001B[38;5;124m.csv\u001B[39m\u001B[38;5;124m'\u001B[39m))\n\u001B[1;32m----> 5\u001B[0m     refit1\u001B[38;5;241m=\u001B[39m\u001B[43mGeneratedRefitAppliance\u001B[49m\u001B[43m(\u001B[49m\u001B[38;5;124;43m\"\u001B[39;49m\u001B[38;5;124;43mwashing machine\u001B[39;49m\u001B[38;5;124;43m\"\u001B[39;49m\u001B[43m,\u001B[49m\u001B[43m \u001B[49m\u001B[43mdataset_time\u001B[49m\u001B[43m,\u001B[49m\u001B[43m \u001B[49m\u001B[38;5;241;43m8\u001B[39;49m\u001B[43m,\u001B[49m\u001B[43m \u001B[49m\u001B[43mtime_dictionary\u001B[49m\u001B[43m[\u001B[49m\u001B[38;5;124;43m\"\u001B[39;49m\u001B[38;5;124;43mwashing machine.pkl\u001B[39;49m\u001B[38;5;124;43m\"\u001B[39;49m\u001B[43m]\u001B[49m\u001B[43m,\u001B[49m\u001B[43m \u001B[49m\u001B[43mrate\u001B[49m\u001B[43m)\u001B[49m\n\u001B[0;32m      6\u001B[0m     refit2\u001B[38;5;241m=\u001B[39mGeneratedRefitAppliance(\u001B[38;5;124m\"\u001B[39m\u001B[38;5;124mtelevision\u001B[39m\u001B[38;5;124m\"\u001B[39m, dataset_time, \u001B[38;5;241m8\u001B[39m, time_dictionary[\u001B[38;5;124m\"\u001B[39m\u001B[38;5;124mtv.pkl\u001B[39m\u001B[38;5;124m\"\u001B[39m], rate)\n\u001B[0;32m      7\u001B[0m     refit3\u001B[38;5;241m=\u001B[39mGeneratedRefitAppliance(\u001B[38;5;124m\"\u001B[39m\u001B[38;5;124mkettle\u001B[39m\u001B[38;5;124m\"\u001B[39m, dataset_time, \u001B[38;5;241m8\u001B[39m, time_dictionary[\u001B[38;5;124m\"\u001B[39m\u001B[38;5;124mkettle.pkl\u001B[39m\u001B[38;5;124m\"\u001B[39m], rate)\n",
      "File \u001B[1;32m~\\Desktop\\pnilm\\codes\\tools\\core.py:567\u001B[0m, in \u001B[0;36mGeneratedRefitAppliance.__init__\u001B[1;34m(self, type, time, sample_rate, used_time, data_rate, number_of_states)\u001B[0m\n\u001B[0;32m    565\u001B[0m \u001B[38;5;28mself\u001B[39m\u001B[38;5;241m.\u001B[39msample_data_path \u001B[38;5;241m=\u001B[39m {}\n\u001B[0;32m    566\u001B[0m \u001B[38;5;28mself\u001B[39m\u001B[38;5;241m.\u001B[39mused_time \u001B[38;5;241m=\u001B[39m used_time \u001B[38;5;66;03m#used time must be an iterable of iterables following the rules [(start1, end1), (start2, end2)\u001B[39;00m\n\u001B[1;32m--> 567\u001B[0m df \u001B[38;5;241m=\u001B[39m \u001B[38;5;28;43mself\u001B[39;49m\u001B[38;5;241;43m.\u001B[39;49m\u001B[43m_create_df\u001B[49m\u001B[43m(\u001B[49m\u001B[38;5;28;43mtype\u001B[39;49m\u001B[43m,\u001B[49m\u001B[43m \u001B[49m\u001B[38;5;28;43mself\u001B[39;49m\u001B[38;5;241;43m.\u001B[39;49m\u001B[43mstart\u001B[49m\u001B[43m,\u001B[49m\u001B[43m \u001B[49m\u001B[38;5;28;43mself\u001B[39;49m\u001B[38;5;241;43m.\u001B[39;49m\u001B[43mend\u001B[49m\u001B[43m,\u001B[49m\u001B[43m \u001B[49m\u001B[43msample_rate\u001B[49m\u001B[43m,\u001B[49m\u001B[43m \u001B[49m\u001B[43mused_time\u001B[49m\u001B[43m,\u001B[49m\u001B[43m \u001B[49m\u001B[43mdata_rate\u001B[49m\u001B[43m)\u001B[49m\n\u001B[0;32m    568\u001B[0m \u001B[38;5;28mself\u001B[39m\u001B[38;5;241m.\u001B[39mdf \u001B[38;5;241m=\u001B[39m df\n",
      "File \u001B[1;32m~\\Desktop\\pnilm\\codes\\tools\\core.py:589\u001B[0m, in \u001B[0;36mGeneratedRefitAppliance._create_df\u001B[1;34m(self, type, start, end, sample_rate, used_time, rate)\u001B[0m\n\u001B[0;32m    587\u001B[0m sampled_raw_data \u001B[38;5;241m=\u001B[39m pd\u001B[38;5;241m.\u001B[39mread_csv(samples_data_path[i])\u001B[38;5;241m.\u001B[39miloc[:,\u001B[38;5;241m1\u001B[39m:]\u001B[38;5;241m.\u001B[39mvalues\n\u001B[0;32m    588\u001B[0m appliance_end_time\u001B[38;5;241m=\u001B[39m\u001B[38;5;28mstr\u001B[39m(datetime\u001B[38;5;241m.\u001B[39mdatetime\u001B[38;5;241m.\u001B[39mstrptime(appliance_start,\u001B[38;5;124m\"\u001B[39m\u001B[38;5;124m%\u001B[39m\u001B[38;5;124mY-\u001B[39m\u001B[38;5;124m%\u001B[39m\u001B[38;5;124mm-\u001B[39m\u001B[38;5;132;01m%d\u001B[39;00m\u001B[38;5;124m \u001B[39m\u001B[38;5;124m%\u001B[39m\u001B[38;5;124mH:\u001B[39m\u001B[38;5;124m%\u001B[39m\u001B[38;5;124mM:\u001B[39m\u001B[38;5;124m%\u001B[39m\u001B[38;5;124mS\u001B[39m\u001B[38;5;124m\"\u001B[39m)\u001B[38;5;241m+\u001B[39mdelta\u001B[38;5;241m*\u001B[39m(\u001B[38;5;28mlen\u001B[39m(sampled_raw_data)\u001B[38;5;241m-\u001B[39m\u001B[38;5;241m1\u001B[39m))\n\u001B[1;32m--> 589\u001B[0m \u001B[43mdf\u001B[49m\u001B[43m[\u001B[49m\u001B[43mappliance_start\u001B[49m\u001B[43m:\u001B[49m\u001B[43mappliance_end_time\u001B[49m\u001B[43m]\u001B[49m \u001B[38;5;241m=\u001B[39m sampled_raw_data  \u001B[38;5;66;03m# fill in the time gaps\u001B[39;00m\n\u001B[0;32m    590\u001B[0m \u001B[38;5;28mself\u001B[39m\u001B[38;5;241m.\u001B[39mtrue_activate_time\u001B[38;5;241m.\u001B[39mappend((appliance_start, appliance_end_time))\n\u001B[0;32m    591\u001B[0m \u001B[38;5;28mself\u001B[39m\u001B[38;5;241m.\u001B[39msample_data_path[(appliance_start, appliance_end_time)] \u001B[38;5;241m=\u001B[39m samples_data_path[i]\n",
      "File \u001B[1;32m~\\anaconda3\\envs\\nilmtk-env4\\lib\\site-packages\\pandas\\core\\frame.py:3479\u001B[0m, in \u001B[0;36mDataFrame.__setitem__\u001B[1;34m(self, key, value)\u001B[0m\n\u001B[0;32m   3477\u001B[0m indexer \u001B[38;5;241m=\u001B[39m convert_to_index_sliceable(\u001B[38;5;28mself\u001B[39m, key)\n\u001B[0;32m   3478\u001B[0m \u001B[38;5;28;01mif\u001B[39;00m indexer \u001B[38;5;129;01mis\u001B[39;00m \u001B[38;5;129;01mnot\u001B[39;00m \u001B[38;5;28;01mNone\u001B[39;00m:\n\u001B[1;32m-> 3479\u001B[0m     \u001B[38;5;28;01mreturn\u001B[39;00m \u001B[38;5;28;43mself\u001B[39;49m\u001B[38;5;241;43m.\u001B[39;49m\u001B[43m_setitem_slice\u001B[49m\u001B[43m(\u001B[49m\u001B[43mindexer\u001B[49m\u001B[43m,\u001B[49m\u001B[43m \u001B[49m\u001B[43mvalue\u001B[49m\u001B[43m)\u001B[49m\n\u001B[0;32m   3481\u001B[0m \u001B[38;5;28;01mif\u001B[39;00m \u001B[38;5;28misinstance\u001B[39m(key, DataFrame) \u001B[38;5;129;01mor\u001B[39;00m \u001B[38;5;28mgetattr\u001B[39m(key, \u001B[38;5;124m\"\u001B[39m\u001B[38;5;124mndim\u001B[39m\u001B[38;5;124m\"\u001B[39m, \u001B[38;5;28;01mNone\u001B[39;00m) \u001B[38;5;241m==\u001B[39m \u001B[38;5;241m2\u001B[39m:\n\u001B[0;32m   3482\u001B[0m     \u001B[38;5;28mself\u001B[39m\u001B[38;5;241m.\u001B[39m_setitem_frame(key, value)\n",
      "File \u001B[1;32m~\\anaconda3\\envs\\nilmtk-env4\\lib\\site-packages\\pandas\\core\\frame.py:3491\u001B[0m, in \u001B[0;36mDataFrame._setitem_slice\u001B[1;34m(self, key, value)\u001B[0m\n\u001B[0;32m   3489\u001B[0m \u001B[38;5;28;01mdef\u001B[39;00m \u001B[38;5;21m_setitem_slice\u001B[39m(\u001B[38;5;28mself\u001B[39m, key, value):\n\u001B[0;32m   3490\u001B[0m     \u001B[38;5;28mself\u001B[39m\u001B[38;5;241m.\u001B[39m_check_setitem_copy()\n\u001B[1;32m-> 3491\u001B[0m     \u001B[38;5;28;43mself\u001B[39;49m\u001B[38;5;241;43m.\u001B[39;49m\u001B[43mloc\u001B[49m\u001B[38;5;241;43m.\u001B[39;49m\u001B[43m_setitem_with_indexer\u001B[49m\u001B[43m(\u001B[49m\u001B[43mkey\u001B[49m\u001B[43m,\u001B[49m\u001B[43m \u001B[49m\u001B[43mvalue\u001B[49m\u001B[43m)\u001B[49m\n",
      "File \u001B[1;32m~\\anaconda3\\envs\\nilmtk-env4\\lib\\site-packages\\pandas\\core\\indexing.py:526\u001B[0m, in \u001B[0;36m_NDFrameIndexer._setitem_with_indexer\u001B[1;34m(self, indexer, value)\u001B[0m\n\u001B[0;32m    524\u001B[0m value \u001B[38;5;241m=\u001B[39m np\u001B[38;5;241m.\u001B[39marray(value, dtype\u001B[38;5;241m=\u001B[39m\u001B[38;5;28mobject\u001B[39m)\n\u001B[0;32m    525\u001B[0m \u001B[38;5;28;01mif\u001B[39;00m \u001B[38;5;28mlen\u001B[39m(labels) \u001B[38;5;241m!=\u001B[39m value\u001B[38;5;241m.\u001B[39mshape[\u001B[38;5;241m1\u001B[39m]:\n\u001B[1;32m--> 526\u001B[0m     \u001B[38;5;28;01mraise\u001B[39;00m \u001B[38;5;167;01mValueError\u001B[39;00m(\n\u001B[0;32m    527\u001B[0m         \u001B[38;5;124m\"\u001B[39m\u001B[38;5;124mMust have equal len keys and value \u001B[39m\u001B[38;5;124m\"\u001B[39m\n\u001B[0;32m    528\u001B[0m         \u001B[38;5;124m\"\u001B[39m\u001B[38;5;124mwhen setting with an ndarray\u001B[39m\u001B[38;5;124m\"\u001B[39m\n\u001B[0;32m    529\u001B[0m     )\n\u001B[0;32m    531\u001B[0m \u001B[38;5;28;01mfor\u001B[39;00m i, item \u001B[38;5;129;01min\u001B[39;00m \u001B[38;5;28menumerate\u001B[39m(labels):\n\u001B[0;32m    532\u001B[0m \n\u001B[0;32m    533\u001B[0m     \u001B[38;5;66;03m# setting with a list, recoerces\u001B[39;00m\n\u001B[0;32m    534\u001B[0m     setter(item, value[:, i]\u001B[38;5;241m.\u001B[39mtolist())\n",
      "\u001B[1;31mValueError\u001B[0m: Must have equal len keys and value when setting with an ndarray"
     ]
    }
   ],
   "source": [
    "fridge_path = r'C:\\Users\\ASUS\\Desktop\\最后一击\\fridge'\n",
    "\n",
    "for i, rate in enumerate(rates):\n",
    "    refit7 = Appliance_from_csv('fridge', dataset_time.start, dataset_time.end, 8, os.path.join(fridge_path, \"fridge\"+str(rate)+'.csv'))\n",
    "    refit1=GeneratedRefitAppliance(\"washing machine\", dataset_time, 8, time_dictionary[\"washing machine.pkl\"], rate)\n",
    "    refit2=GeneratedRefitAppliance(\"television\", dataset_time, 8, time_dictionary[\"tv.pkl\"], rate)\n",
    "    refit3=GeneratedRefitAppliance(\"kettle\", dataset_time, 8, time_dictionary[\"kettle.pkl\"], rate)\n",
    "    refit4=GeneratedRefitAppliance(\"dishwasher\", dataset_time, 8, time_dictionary['dishwasher.pkl'], rate)\n",
    "    refit5=GeneratedRefitAppliance(\"toaster\", dataset_time, 8, time_dictionary['toaster.pkl'], rate)\n",
    "    refit6=GeneratedRefitAppliance(\"microwave\", dataset_time, 8, time_dictionary['microwave.pkl'], rate)\n",
    "    variable_name = \"Building_\"+str(rate)\n",
    "    globals()[variable_name] = Building(i+1, dataset_time, sample_rate)\n",
    "    globals()[variable_name].add_appliance(refit1)\n",
    "    globals()[variable_name].add_appliance(refit2)\n",
    "    globals()[variable_name].add_appliance(refit3)\n",
    "    globals()[variable_name].add_appliance(refit4)\n",
    "    globals()[variable_name].add_appliance(refit5)\n",
    "    globals()[variable_name].add_appliance(refit6)\n",
    "    globals()[variable_name].add_appliance(refit7)\n",
    "    globals()[variable_name].to_dataset()\n",
    "    globals()[variable_name].create_metadata()"
   ],
   "metadata": {
    "collapsed": false
   }
  },
  {
   "cell_type": "code",
   "execution_count": 23,
   "outputs": [
    {
     "name": "stdout",
     "output_type": "stream",
     "text": [
      "Loading house 1... 1 2 3 4 5 6 7 8 \n",
      "Loaded metadata\n"
     ]
    },
    {
     "name": "stderr",
     "output_type": "stream",
     "text": [
      "..//dataset//metadata\\dataset.yaml not found.\n",
      "..//dataset//metadata\\meter_devices.yaml not found.\n"
     ]
    },
    {
     "ename": "TypeError",
     "evalue": "'NoneType' object does not support item assignment",
     "output_type": "error",
     "traceback": [
      "\u001B[1;31m---------------------------------------------------------------------------\u001B[0m",
      "\u001B[1;31mTypeError\u001B[0m                                 Traceback (most recent call last)",
      "Cell \u001B[1;32mIn[23], line 2\u001B[0m\n\u001B[0;32m      1\u001B[0m \u001B[38;5;28;01mfrom\u001B[39;00m \u001B[38;5;21;01mconvert_pilm\u001B[39;00m \u001B[38;5;28;01mimport\u001B[39;00m convert_pilm\n\u001B[1;32m----> 2\u001B[0m \u001B[43mconvert_pilm\u001B[49m\u001B[43m(\u001B[49m\u001B[38;5;124;43m'\u001B[39;49m\u001B[38;5;124;43m..//dataset//metadata\u001B[39;49m\u001B[38;5;124;43m'\u001B[39;49m\u001B[43m,\u001B[49m\u001B[38;5;124;43m'\u001B[39;49m\u001B[38;5;124;43m..//dataset\u001B[39;49m\u001B[38;5;124;43m'\u001B[39;49m\u001B[43m,\u001B[49m\u001B[38;5;124;43m'\u001B[39;49m\u001B[38;5;124;43mtrain_dataset1.h5\u001B[39;49m\u001B[38;5;124;43m'\u001B[39;49m\u001B[43m)\u001B[49m\n",
      "File \u001B[1;32m~\\Desktop\\pnilm\\codes\\convert_pilm.py:52\u001B[0m, in \u001B[0;36mconvert_pilm\u001B[1;34m(metadata_path, dataset_path, output_filename, format)\u001B[0m\n\u001B[0;32m     46\u001B[0m s\u001B[38;5;241m=\u001B[39mjoin(get_module_directory(),\n\u001B[0;32m     47\u001B[0m                           \u001B[38;5;124m'\u001B[39m\u001B[38;5;124mdataset_converters\u001B[39m\u001B[38;5;124m'\u001B[39m,\n\u001B[0;32m     48\u001B[0m                           \u001B[38;5;124m'\u001B[39m\u001B[38;5;124mpnilm\u001B[39m\u001B[38;5;124m'\u001B[39m,\n\u001B[0;32m     49\u001B[0m                           \u001B[38;5;124m'\u001B[39m\u001B[38;5;124mmetadata\u001B[39m\u001B[38;5;124m'\u001B[39m)\n\u001B[0;32m     51\u001B[0m \u001B[38;5;66;03m# Add metadata\u001B[39;00m\n\u001B[1;32m---> 52\u001B[0m \u001B[43msave_yaml_to_datastore\u001B[49m\u001B[43m(\u001B[49m\u001B[43mmetadata_path\u001B[49m\u001B[43m,\u001B[49m\n\u001B[0;32m     53\u001B[0m \u001B[43m                     \u001B[49m\u001B[43mstore\u001B[49m\u001B[43m)\u001B[49m\n\u001B[0;32m     54\u001B[0m store\u001B[38;5;241m.\u001B[39mclose()\n\u001B[0;32m     56\u001B[0m \u001B[38;5;28mprint\u001B[39m(\u001B[38;5;124m\"\u001B[39m\u001B[38;5;124mDone converting PILM to HDF5!\u001B[39m\u001B[38;5;124m\"\u001B[39m)\n",
      "File \u001B[1;32m~\\anaconda3\\envs\\nilmtk-env4\\lib\\site-packages\\nilm_metadata\\convert_yaml_to_hdf5.py:79\u001B[0m, in \u001B[0;36msave_yaml_to_datastore\u001B[1;34m(yaml_dir, store)\u001B[0m\n\u001B[0;32m     77\u001B[0m \u001B[38;5;28mprint\u001B[39m(\u001B[38;5;124m\"\u001B[39m\u001B[38;5;124mLoaded metadata\u001B[39m\u001B[38;5;124m\"\u001B[39m)\n\u001B[0;32m     78\u001B[0m meter_devices \u001B[38;5;241m=\u001B[39m _load_file(yaml_dir, \u001B[38;5;124m'\u001B[39m\u001B[38;5;124mmeter_devices.yaml\u001B[39m\u001B[38;5;124m'\u001B[39m)\n\u001B[1;32m---> 79\u001B[0m \u001B[43mmetadata\u001B[49m\u001B[43m[\u001B[49m\u001B[38;5;124;43m'\u001B[39;49m\u001B[38;5;124;43mmeter_devices\u001B[39;49m\u001B[38;5;124;43m'\u001B[39;49m\u001B[43m]\u001B[49m \u001B[38;5;241m=\u001B[39m meter_devices\n\u001B[0;32m     80\u001B[0m store\u001B[38;5;241m.\u001B[39msave_metadata(\u001B[38;5;124m'\u001B[39m\u001B[38;5;124m/\u001B[39m\u001B[38;5;124m'\u001B[39m, metadata)\n\u001B[0;32m     82\u001B[0m \u001B[38;5;66;03m# Load buildings\u001B[39;00m\n",
      "\u001B[1;31mTypeError\u001B[0m: 'NoneType' object does not support item assignment"
     ]
    }
   ],
   "source": [
    "from convert_pilm import convert_pilm\n",
    "convert_pilm('..//dataset//metadata','..//dataset','train_dataset1.h5')"
   ],
   "metadata": {
    "collapsed": false
   }
  },
  {
   "cell_type": "code",
   "execution_count": null,
   "outputs": [],
   "source": [
    "from __future__ import print_function, division\n",
    "import time\n",
    "\n",
    "from matplotlib import rcParams\n",
    "import matplotlib.pyplot as plt\n",
    "import pandas as pd\n",
    "import numpy as np\n",
    "from six import iteritems\n",
    "\n",
    "from nilmtk import DataSet, TimeFrame, MeterGroup, HDFDataStore\n",
    "from nilmtk.legacy.disaggregate import CombinatorialOptimisation, FHMM\n",
    "import nilmtk.utils\n",
    "\n",
    "%matplotlib inline"
   ],
   "metadata": {
    "collapsed": false
   }
  },
  {
   "cell_type": "code",
   "execution_count": null,
   "outputs": [],
   "source": [
    "train = DataSet(r'test_refit2.h5')\n",
    "test = DataSet(r'C:\\Users\\ASUS\\Desktop\\pnilm\\data\\experiment\\refit_test.h5')"
   ],
   "metadata": {
    "collapsed": false
   }
  },
  {
   "cell_type": "code",
   "execution_count": null,
   "outputs": [],
   "source": [
    "building = 1\n",
    "train_elec = train.buildings[5].elec\n",
    "test_elec = test.buildings[1].elec"
   ],
   "metadata": {
    "collapsed": false
   }
  },
  {
   "cell_type": "code",
   "execution_count": null,
   "outputs": [],
   "source": [],
   "metadata": {
    "collapsed": false
   }
  },
  {
   "cell_type": "code",
   "execution_count": null,
   "outputs": [],
   "source": [
    "def predict(clf, test_elec, sample_period, timezone):\n",
    "    pred = {}\n",
    "    gt= {}\n",
    "\n",
    "    # \"ac_type\" varies according to the dataset used.\n",
    "    # Make sure to use the correct ac_type before using the default parameters in this code.\n",
    "    for i, chunk in enumerate(test_elec.mains().load(physical_quantity = 'power', ac_type = 'active', sample_period=sample_period)):\n",
    "        chunk_drop_na = chunk.dropna()\n",
    "        pred[i] = clf.disaggregate_chunk(chunk_drop_na)\n",
    "        gt[i]={}\n",
    "\n",
    "        for meter in test_elec.submeters().meters:\n",
    "            # Only use the meters that we trained on (this saves time!)\n",
    "            gt[i][meter] = next(meter.load(physical_quantity = 'power', ac_type = 'active', sample_period=sample_period))\n",
    "        gt[i] = pd.DataFrame({k:v.squeeze() for k,v in iteritems(gt[i]) if len(v)}, index=next(iter(gt[i].values())).index).dropna()\n",
    "\n",
    "    # If everything can fit in memory\n",
    "    gt_overall = pd.concat(gt)\n",
    "    gt_overall.index = gt_overall.index.droplevel()\n",
    "    pred_overall = pd.concat(pred)\n",
    "    pred_overall.index = pred_overall.index.droplevel()\n",
    "\n",
    "    # Having the same order of columns\n",
    "    # gt_overall = gt_overall[pred_overall.columns]\n",
    "    return gt_overall, pred_overall\n",
    "state_dict = {\"washing machine\":4,\"television\":2,\"dishwasher\":3, \"microwave\":2,\"toaster\":3,\"kettle\":2,\"fridge\":2}\n",
    "classifiers = {'FHMM':FHMM(),\"CO\":CombinatorialOptimisation()}\n",
    "predictions = {}\n",
    "sample_period = 120\n",
    "for clf_name, clf in classifiers.items():\n",
    "    print(\"*\"*20)\n",
    "    print(clf_name)\n",
    "    print(\"*\" *20)\n",
    "    # start = time.time()\n",
    "    # Note that we have given the sample period to downsample the data to 1 minute.\n",
    "    # If instead of top_5 we wanted to train on all appliance, we would write\n",
    "    # fhmm.train(train_elec, sample_period=60)\n",
    "    clf.train(train_elec, sample_period=sample_period, num_states_dict=state_dict)\n",
    "    # end = time.time()\n",
    "    # print(\"Runtime =\", end-start, \"seconds.\")\n",
    "    gt, predictions[clf_name] = predict(clf, test_elec, sample_period, train.metadata['timezone'])"
   ],
   "metadata": {
    "collapsed": false
   }
  },
  {
   "cell_type": "code",
   "execution_count": null,
   "outputs": [],
   "source": [
    "def compute_rmse(gt, pred):\n",
    "    from sklearn.metrics import mean_squared_error\n",
    "    rms_error = {}\n",
    "    for appliance in gt.columns:\n",
    "        rms_error[appliance] = np.sqrt(mean_squared_error(gt[appliance], pred[appliance]))\n",
    "    return pd.Series(rms_error)"
   ],
   "metadata": {
    "collapsed": false
   }
  },
  {
   "cell_type": "code",
   "execution_count": null,
   "outputs": [],
   "source": [
    "rmse = {}\n",
    "for clf_name in classifiers.keys():\n",
    "    rmse[clf_name] = nilmtk.utils.compute_rmse(gt, predictions[clf_name])\n",
    "\n",
    "rmse = pd.DataFrame(rmse)\n",
    "rmse"
   ],
   "metadata": {
    "collapsed": false
   }
  },
  {
   "cell_type": "code",
   "execution_count": null,
   "outputs": [],
   "source": [
    "gt.columns=[\"fridge\", \"washine machine\", 'dishwasher', 'television',\"microwave\",\"toaster\",\"kettle\"]\n",
    "predictions[\"FHMM\"].columns = [\"washine machine\", \"television\",\"kettle\", \"dishwasher\", \"toaster\", \"microwave\",\"fridge\"]\n",
    "predictions[\"CO\"].columns = [\"washine machine\", \"television\",\"kettle\", \"dishwasher\", \"toaster\", \"microwave\",\"fridge\"]"
   ],
   "metadata": {
    "collapsed": false
   }
  },
  {
   "cell_type": "code",
   "execution_count": null,
   "outputs": [],
   "source": [
    "FHMM = predictions[\"FHMM\"].copy()\n",
    "FHMM = FHMM[gt.columns]\n",
    "CO = predictions[\"CO\"].copy()\n",
    "CO = CO[gt.columns]"
   ],
   "metadata": {
    "collapsed": false
   }
  },
  {
   "cell_type": "code",
   "execution_count": null,
   "outputs": [],
   "source": [
    "# mse"
   ],
   "metadata": {
    "collapsed": false
   }
  },
  {
   "cell_type": "code",
   "execution_count": null,
   "outputs": [],
   "source": [
    "FHMM[FHMM.values<=10] = 0\n",
    "FHMM[FHMM.values>10]=1\n",
    "CO[CO<=10]=0\n",
    "CO[CO>10] = 1\n",
    "gt2 = gt.copy()\n",
    "gt2[gt2<=10]=0\n",
    "gt2[gt2>10]=1\n",
    "gt2 = gt2.astype(int)\n",
    "CO = CO.astype(int)\n",
    "FHMM = FHMM.astype(int)\n"
   ],
   "metadata": {
    "collapsed": false
   }
  },
  {
   "cell_type": "code",
   "execution_count": null,
   "outputs": [],
   "source": [
    "from sklearn.metrics import f1_score\n",
    "# 遍历每一列，并计算MSE\n",
    "f1_list = []\n",
    "for col in CO.columns:\n",
    "    mse = f1_score(gt2[col], CO[col])\n",
    "    f1_list.append(mse)\n",
    "\n",
    "# 打印f1值列表\n",
    "print(f1_list)\n",
    "print(sum(f1_list)/len(f1_list))"
   ],
   "metadata": {
    "collapsed": false
   }
  },
  {
   "cell_type": "code",
   "execution_count": null,
   "outputs": [],
   "source": [
    "#f1"
   ],
   "metadata": {
    "collapsed": false
   }
  },
  {
   "cell_type": "code",
   "execution_count": null,
   "outputs": [],
   "source": [
    "from sklearn.metrics import f1_score\n",
    "# 遍历每一列，并计算MSE\n",
    "f1_list = []\n",
    "for col in CO.columns:\n",
    "    mse = f1_score(gt2[col],CO[col])\n",
    "    f1_list.append(mse)\n",
    "\n",
    "# 打印f1值列表\n",
    "print(f1_list)\n",
    "print(sum(f1_list)/len(f1_list))"
   ],
   "metadata": {
    "collapsed": false
   }
  },
  {
   "cell_type": "code",
   "execution_count": null,
   "outputs": [],
   "source": [
    "# RMSE"
   ],
   "metadata": {
    "collapsed": false
   }
  },
  {
   "cell_type": "code",
   "execution_count": null,
   "outputs": [],
   "source": [
    "from sklearn.preprocessing import MinMaxScaler\n",
    "scaler = MinMaxScaler()\n",
    "gt2=scaler.fit_transform(gt)"
   ],
   "metadata": {
    "collapsed": false
   }
  },
  {
   "cell_type": "code",
   "execution_count": null,
   "outputs": [],
   "source": [
    "\n",
    "CO2 = scaler.transform(predictions[\"CO\"].values.astype(int))\n",
    "FHMM2 = scaler.transform(predictions[\"FHMM\"].values.astype(int))"
   ],
   "metadata": {
    "collapsed": false
   }
  },
  {
   "cell_type": "code",
   "execution_count": null,
   "outputs": [],
   "source": [
    "error_lst = []\n",
    "from sklearn.metrics import mean_squared_error\n",
    "for i in range(7):\n",
    "    error_lst.append(mean_squared_error(gt2[:,i],FHMM2[:,i]))\n",
    "print(error_lst)\n",
    "print(sum(error_lst)/len(error_lst))"
   ],
   "metadata": {
    "collapsed": false
   }
  },
  {
   "cell_type": "code",
   "execution_count": null,
   "outputs": [],
   "source": [
    "error_lst"
   ],
   "metadata": {
    "collapsed": false
   }
  },
  {
   "cell_type": "code",
   "execution_count": null,
   "outputs": [],
   "source": [
    "# 初始化一个空列表，用于存储MSE值\n",
    "from sklearn.metrics import mean_squared_error\n",
    "mse_list = []\n",
    "\n",
    "# 遍历每一列，并计算MSE\n",
    "for col in CO:\n",
    "    mse = mean_squared_error(CO, gt)\n",
    "    mse_list.append(mse)\n",
    "\n",
    "# 打印MSE值列表\n",
    "print(mse_list)"
   ],
   "metadata": {
    "collapsed": false
   }
  },
  {
   "cell_type": "code",
   "execution_count": null,
   "outputs": [],
   "source": [],
   "metadata": {
    "collapsed": false
   }
  }
 ],
 "metadata": {
  "kernelspec": {
   "name": "nilmtk-env4",
   "language": "python",
   "display_name": "nilmtk-env4"
  },
  "language_info": {
   "codemirror_mode": {
    "name": "ipython",
    "version": 2
   },
   "file_extension": ".py",
   "mimetype": "text/x-python",
   "name": "python",
   "nbconvert_exporter": "python",
   "pygments_lexer": "ipython2",
   "version": "2.7.6"
  }
 },
 "nbformat": 4,
 "nbformat_minor": 0
}
